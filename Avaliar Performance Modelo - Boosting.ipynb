{
 "cells": [
  {
   "cell_type": "code",
   "execution_count": 1,
   "metadata": {},
   "outputs": [],
   "source": [
    "#### Projeto: Desafio ZAP\n",
    "#### Programa para avaliar performance e outros itens do Modelo escolhido\n",
    "#### Autor: Rodolfo Bugarin"
   ]
  },
  {
   "cell_type": "code",
   "execution_count": 2,
   "metadata": {},
   "outputs": [],
   "source": [
    "import pandas as pd\n",
    "import numpy as np\n",
    "import sklearn as sk\n",
    "import pickle\n",
    "import matplotlib.pyplot as plt\n",
    "%matplotlib inline"
   ]
  },
  {
   "cell_type": "code",
   "execution_count": 3,
   "metadata": {},
   "outputs": [],
   "source": [
    "pd.options.display.float_format = '{:,.4f}'.format"
   ]
  },
  {
   "cell_type": "code",
   "execution_count": 4,
   "metadata": {},
   "outputs": [],
   "source": [
    "#\n",
    "# Carregar os Dataframes\n",
    "#"
   ]
  },
  {
   "cell_type": "code",
   "execution_count": 5,
   "metadata": {},
   "outputs": [],
   "source": [
    "df_train = pickle.load(open('source-4-ds-train.pickle', 'rb'))"
   ]
  },
  {
   "cell_type": "code",
   "execution_count": 6,
   "metadata": {},
   "outputs": [],
   "source": [
    "X = pd.read_pickle('df_X_features.pickle')\n",
    "y = pd.read_pickle('df_y_label.pickle') "
   ]
  },
  {
   "cell_type": "code",
   "execution_count": 7,
   "metadata": {},
   "outputs": [],
   "source": [
    "X_train = pd.read_pickle('df_X_train_features.pickle')\n",
    "X_test = pd.read_pickle('df_X_test_features.pickle') "
   ]
  },
  {
   "cell_type": "code",
   "execution_count": 8,
   "metadata": {},
   "outputs": [],
   "source": [
    "y_train = pd.read_pickle('df_y_train_label.pickle')\n",
    "y_test = pd.read_pickle('df_y_test_label.pickle') "
   ]
  },
  {
   "cell_type": "code",
   "execution_count": 9,
   "metadata": {},
   "outputs": [],
   "source": [
    "# Scaling"
   ]
  },
  {
   "cell_type": "code",
   "execution_count": 10,
   "metadata": {},
   "outputs": [
    {
     "data": {
      "text/plain": [
       "StandardScaler(copy=True, with_mean=True, with_std=True)"
      ]
     },
     "execution_count": 10,
     "metadata": {},
     "output_type": "execute_result"
    }
   ],
   "source": [
    "from sklearn.preprocessing import StandardScaler\n",
    "scaler = StandardScaler()\n",
    "# Fit the training data\n",
    "scaler.fit(X_train)"
   ]
  },
  {
   "cell_type": "code",
   "execution_count": 11,
   "metadata": {},
   "outputs": [],
   "source": [
    "# Apply the transformations to the data:\n",
    "X_train = scaler.transform(X_train)\n",
    "X_test = scaler.transform(X_test)"
   ]
  },
  {
   "cell_type": "code",
   "execution_count": 12,
   "metadata": {},
   "outputs": [],
   "source": [
    "# Boosting"
   ]
  },
  {
   "cell_type": "code",
   "execution_count": 15,
   "metadata": {},
   "outputs": [],
   "source": [
    "# Carregar o Modelo\n",
    "modelo_clf = pd.read_pickle('modelo_clf.pickle')"
   ]
  },
  {
   "cell_type": "code",
   "execution_count": 16,
   "metadata": {},
   "outputs": [],
   "source": [
    "# Precificação desse modelo\n",
    "predictions = modelo_clf.predict(X_test)"
   ]
  },
  {
   "cell_type": "code",
   "execution_count": 17,
   "metadata": {},
   "outputs": [
    {
     "data": {
      "text/plain": [
       "array([774162.16074663, 423035.65280711, 453048.9616134 , ...,\n",
       "       415330.14035303, 953624.40203875, 484522.30871966])"
      ]
     },
     "execution_count": 17,
     "metadata": {},
     "output_type": "execute_result"
    }
   ],
   "source": [
    "predictions"
   ]
  },
  {
   "cell_type": "code",
   "execution_count": 18,
   "metadata": {
    "scrolled": true
   },
   "outputs": [
    {
     "name": "stdout",
     "output_type": "stream",
     "text": [
      "MSE: 101635595220.5466\n",
      "R2: 0.8997\n"
     ]
    }
   ],
   "source": [
    "from sklearn.metrics import r2_score\n",
    "from sklearn.metrics import mean_squared_error\n",
    "mse = mean_squared_error(y_test, predictions)\n",
    "print(\"MSE: %.4f\" % mse)\n",
    "r2 = r2_score(y_test, predictions)\n",
    "print(\"R2: %.4f\" % r2)"
   ]
  },
  {
   "cell_type": "code",
   "execution_count": 19,
   "metadata": {},
   "outputs": [],
   "source": [
    "# Rotina para identificar as features mais importantes do modelo\n",
    "features = X.columns.tolist()[1:]\n",
    "features = ['Intercept'] + features\n",
    "df_features = pd.DataFrame()\n",
    "df_features ['Features'] = features\n",
    "df_features ['feature_importances_'] = modelo_clf.feature_importances_"
   ]
  },
  {
   "cell_type": "code",
   "execution_count": 20,
   "metadata": {
    "scrolled": true
   },
   "outputs": [
    {
     "data": {
      "text/html": [
       "<div>\n",
       "<style scoped>\n",
       "    .dataframe tbody tr th:only-of-type {\n",
       "        vertical-align: middle;\n",
       "    }\n",
       "\n",
       "    .dataframe tbody tr th {\n",
       "        vertical-align: top;\n",
       "    }\n",
       "\n",
       "    .dataframe thead th {\n",
       "        text-align: right;\n",
       "    }\n",
       "</style>\n",
       "<table border=\"1\" class=\"dataframe\">\n",
       "  <thead>\n",
       "    <tr style=\"text-align: right;\">\n",
       "      <th></th>\n",
       "      <th>Features</th>\n",
       "      <th>feature_importances_</th>\n",
       "    </tr>\n",
       "  </thead>\n",
       "  <tbody>\n",
       "    <tr>\n",
       "      <th>8</th>\n",
       "      <td>usableareas</td>\n",
       "      <td>0.3915</td>\n",
       "    </tr>\n",
       "    <tr>\n",
       "      <th>18</th>\n",
       "      <td>Distancia</td>\n",
       "      <td>0.3657</td>\n",
       "    </tr>\n",
       "    <tr>\n",
       "      <th>3</th>\n",
       "      <td>pricinginfos_monthlycondofee</td>\n",
       "      <td>0.0751</td>\n",
       "    </tr>\n",
       "    <tr>\n",
       "      <th>2</th>\n",
       "      <td>parkingspaces</td>\n",
       "      <td>0.0385</td>\n",
       "    </tr>\n",
       "    <tr>\n",
       "      <th>7</th>\n",
       "      <td>totalareas</td>\n",
       "      <td>0.0341</td>\n",
       "    </tr>\n",
       "  </tbody>\n",
       "</table>\n",
       "</div>"
      ],
      "text/plain": [
       "                        Features  feature_importances_\n",
       "8                    usableareas                0.3915\n",
       "18                     Distancia                0.3657\n",
       "3   pricinginfos_monthlycondofee                0.0751\n",
       "2                  parkingspaces                0.0385\n",
       "7                     totalareas                0.0341"
      ]
     },
     "execution_count": 20,
     "metadata": {},
     "output_type": "execute_result"
    }
   ],
   "source": [
    "df_features.sort_values(by='feature_importances_',ascending = False).head(n=5)"
   ]
  },
  {
   "cell_type": "code",
   "execution_count": 21,
   "metadata": {},
   "outputs": [
    {
     "data": {
      "image/png": "[encoded data removed]",
      "text/plain": [
       "<Figure size 432x288 with 1 Axes>"
      ]
     },
     "metadata": {
      "needs_background": "light"
     },
     "output_type": "display_data"
    }
   ],
   "source": [
    "# Plot Importância da feature \n",
    "feature_importance = df_features.feature_importances_\n",
    "# Importância Relativa em relação à vriável mais importante\n",
    "feature_importance = 100.0 * (feature_importance / feature_importance.max())\n",
    "sorted_idx = np.argsort(feature_importance)\n",
    "features_series = pd.Series(features) \n",
    "pos = np.arange(sorted_idx.shape[0]) + .5\n",
    "plt.subplot(1, 2, 2)\n",
    "plt.barh(pos, feature_importance[sorted_idx], align='center')\n",
    "plt.yticks(pos, features_series[sorted_idx])\n",
    "plt.xlabel('Importância Relativa')\n",
    "plt.title('Variável Importante')\n",
    "plt.show()"
   ]
  },
  {
   "cell_type": "code",
   "execution_count": 22,
   "metadata": {},
   "outputs": [],
   "source": [
    "# Rotina para verificar a performance da Estimativa por Bairro\n",
    "df_predictions = pd.DataFrame(predictions)\n",
    "df_predictions.rename({0: \"Preco_Estimado\"}, axis=1, inplace=True)\n",
    "df_y_test = pd.DataFrame(y_test).reset_index()\n",
    "df_y_test['Preco_Venda'] = df_y_test.Preco_Venda.astype(float)\n",
    "df_concat = pd.concat ([df_y_test, df_predictions], axis=1)\n",
    "df_result = pd.merge(df_concat, df_train, left_on='index', right_index=True, how='left')\n",
    "df_result['Dif_Preco_Estimado_Venda'] = (df_result['Preco_Estimado'] / df_result['Preco_Venda'])-1\n",
    "df_bairros = pd.DataFrame(df_result.groupby('address_neighborhood')['Dif_Preco_Estimado_Venda'].mean())\n",
    "df_bairros ['Dif_Abs'] = df_bairros['Dif_Preco_Estimado_Venda'].abs()"
   ]
  },
  {
   "cell_type": "code",
   "execution_count": 23,
   "metadata": {},
   "outputs": [
    {
     "data": {
      "text/html": [
       "<div>\n",
       "<style scoped>\n",
       "    .dataframe tbody tr th:only-of-type {\n",
       "        vertical-align: middle;\n",
       "    }\n",
       "\n",
       "    .dataframe tbody tr th {\n",
       "        vertical-align: top;\n",
       "    }\n",
       "\n",
       "    .dataframe thead th {\n",
       "        text-align: right;\n",
       "    }\n",
       "</style>\n",
       "<table border=\"1\" class=\"dataframe\">\n",
       "  <thead>\n",
       "    <tr style=\"text-align: right;\">\n",
       "      <th></th>\n",
       "      <th>index</th>\n",
       "      <th>Preco_Venda</th>\n",
       "      <th>Preco_Estimado</th>\n",
       "    </tr>\n",
       "  </thead>\n",
       "  <tbody>\n",
       "    <tr>\n",
       "      <th>0</th>\n",
       "      <td>133869</td>\n",
       "      <td>837,647.0000</td>\n",
       "      <td>774,162.1607</td>\n",
       "    </tr>\n",
       "    <tr>\n",
       "      <th>1</th>\n",
       "      <td>60627</td>\n",
       "      <td>364,000.0000</td>\n",
       "      <td>423,035.6528</td>\n",
       "    </tr>\n",
       "    <tr>\n",
       "      <th>2</th>\n",
       "      <td>2179</td>\n",
       "      <td>455,000.0000</td>\n",
       "      <td>453,048.9616</td>\n",
       "    </tr>\n",
       "    <tr>\n",
       "      <th>3</th>\n",
       "      <td>51449</td>\n",
       "      <td>3,812,412.0000</td>\n",
       "      <td>3,858,679.3423</td>\n",
       "    </tr>\n",
       "    <tr>\n",
       "      <th>4</th>\n",
       "      <td>42086</td>\n",
       "      <td>5,040,000.0000</td>\n",
       "      <td>5,361,147.3632</td>\n",
       "    </tr>\n",
       "  </tbody>\n",
       "</table>\n",
       "</div>"
      ],
      "text/plain": [
       "    index    Preco_Venda  Preco_Estimado\n",
       "0  133869   837,647.0000    774,162.1607\n",
       "1   60627   364,000.0000    423,035.6528\n",
       "2    2179   455,000.0000    453,048.9616\n",
       "3   51449 3,812,412.0000  3,858,679.3423\n",
       "4   42086 5,040,000.0000  5,361,147.3632"
      ]
     },
     "execution_count": 23,
     "metadata": {},
     "output_type": "execute_result"
    }
   ],
   "source": [
    "df_concat.head()"
   ]
  },
  {
   "cell_type": "code",
   "execution_count": 24,
   "metadata": {
    "scrolled": true
   },
   "outputs": [
    {
     "data": {
      "text/html": [
       "<div>\n",
       "<style scoped>\n",
       "    .dataframe tbody tr th:only-of-type {\n",
       "        vertical-align: middle;\n",
       "    }\n",
       "\n",
       "    .dataframe tbody tr th {\n",
       "        vertical-align: top;\n",
       "    }\n",
       "\n",
       "    .dataframe thead th {\n",
       "        text-align: right;\n",
       "    }\n",
       "</style>\n",
       "<table border=\"1\" class=\"dataframe\">\n",
       "  <thead>\n",
       "    <tr style=\"text-align: right;\">\n",
       "      <th></th>\n",
       "      <th>Dif_Preco_Estimado_Venda</th>\n",
       "      <th>Dif_Abs</th>\n",
       "    </tr>\n",
       "    <tr>\n",
       "      <th>address_neighborhood</th>\n",
       "      <th></th>\n",
       "      <th></th>\n",
       "    </tr>\n",
       "  </thead>\n",
       "  <tbody>\n",
       "    <tr>\n",
       "      <th>Parque Edu Chaves</th>\n",
       "      <td>-0.0003</td>\n",
       "      <td>0.0003</td>\n",
       "    </tr>\n",
       "    <tr>\n",
       "      <th>Pirajussara</th>\n",
       "      <td>0.0007</td>\n",
       "      <td>0.0007</td>\n",
       "    </tr>\n",
       "    <tr>\n",
       "      <th>Vila Sonia</th>\n",
       "      <td>-0.0007</td>\n",
       "      <td>0.0007</td>\n",
       "    </tr>\n",
       "    <tr>\n",
       "      <th>Pinheiros</th>\n",
       "      <td>-0.0011</td>\n",
       "      <td>0.0011</td>\n",
       "    </tr>\n",
       "    <tr>\n",
       "      <th>Chácara Califórnia</th>\n",
       "      <td>-0.0011</td>\n",
       "      <td>0.0011</td>\n",
       "    </tr>\n",
       "    <tr>\n",
       "      <th>Planalto Paulista</th>\n",
       "      <td>0.0012</td>\n",
       "      <td>0.0012</td>\n",
       "    </tr>\n",
       "    <tr>\n",
       "      <th>Jardim Célia</th>\n",
       "      <td>0.0013</td>\n",
       "      <td>0.0013</td>\n",
       "    </tr>\n",
       "    <tr>\n",
       "      <th>Chácara Inglesa</th>\n",
       "      <td>-0.0016</td>\n",
       "      <td>0.0016</td>\n",
       "    </tr>\n",
       "    <tr>\n",
       "      <th>Jardim das Perdizes</th>\n",
       "      <td>0.0016</td>\n",
       "      <td>0.0016</td>\n",
       "    </tr>\n",
       "    <tr>\n",
       "      <th>Vila Regente Feijó</th>\n",
       "      <td>-0.0016</td>\n",
       "      <td>0.0016</td>\n",
       "    </tr>\n",
       "  </tbody>\n",
       "</table>\n",
       "</div>"
      ],
      "text/plain": [
       "                      Dif_Preco_Estimado_Venda  Dif_Abs\n",
       "address_neighborhood                                   \n",
       "Parque Edu Chaves                      -0.0003   0.0003\n",
       "Pirajussara                             0.0007   0.0007\n",
       "Vila Sonia                             -0.0007   0.0007\n",
       "Pinheiros                              -0.0011   0.0011\n",
       "Chácara Califórnia                     -0.0011   0.0011\n",
       "Planalto Paulista                       0.0012   0.0012\n",
       "Jardim Célia                            0.0013   0.0013\n",
       "Chácara Inglesa                        -0.0016   0.0016\n",
       "Jardim das Perdizes                     0.0016   0.0016\n",
       "Vila Regente Feijó                     -0.0016   0.0016"
      ]
     },
     "execution_count": 24,
     "metadata": {},
     "output_type": "execute_result"
    }
   ],
   "source": [
    "df_bairros.sort_values(by=['Dif_Abs']).head(n=10)"
   ]
  },
  {
   "cell_type": "code",
   "execution_count": 25,
   "metadata": {},
   "outputs": [
    {
     "data": {
      "text/html": [
       "<div>\n",
       "<style scoped>\n",
       "    .dataframe tbody tr th:only-of-type {\n",
       "        vertical-align: middle;\n",
       "    }\n",
       "\n",
       "    .dataframe tbody tr th {\n",
       "        vertical-align: top;\n",
       "    }\n",
       "\n",
       "    .dataframe thead th {\n",
       "        text-align: right;\n",
       "    }\n",
       "</style>\n",
       "<table border=\"1\" class=\"dataframe\">\n",
       "  <thead>\n",
       "    <tr style=\"text-align: right;\">\n",
       "      <th></th>\n",
       "      <th>index</th>\n",
       "      <th>Preco_Estimado</th>\n",
       "      <th>Preco_Venda</th>\n",
       "      <th>pricinginfos_price</th>\n",
       "      <th>Dif_Preco_Estimado_Venda</th>\n",
       "      <th>address_neighborhood</th>\n",
       "    </tr>\n",
       "  </thead>\n",
       "  <tbody>\n",
       "    <tr>\n",
       "      <th>0</th>\n",
       "      <td>133869</td>\n",
       "      <td>774,162.1607</td>\n",
       "      <td>837,647.0000</td>\n",
       "      <td>837647</td>\n",
       "      <td>-0.0758</td>\n",
       "      <td>Pinheiros</td>\n",
       "    </tr>\n",
       "    <tr>\n",
       "      <th>1</th>\n",
       "      <td>60627</td>\n",
       "      <td>423,035.6528</td>\n",
       "      <td>364,000.0000</td>\n",
       "      <td>364000</td>\n",
       "      <td>0.1622</td>\n",
       "      <td>Água Rasa</td>\n",
       "    </tr>\n",
       "    <tr>\n",
       "      <th>2</th>\n",
       "      <td>2179</td>\n",
       "      <td>453,048.9616</td>\n",
       "      <td>455,000.0000</td>\n",
       "      <td>455000</td>\n",
       "      <td>-0.0043</td>\n",
       "      <td>Saúde</td>\n",
       "    </tr>\n",
       "    <tr>\n",
       "      <th>3</th>\n",
       "      <td>51449</td>\n",
       "      <td>3,858,679.3423</td>\n",
       "      <td>3,812,412.0000</td>\n",
       "      <td>3812412</td>\n",
       "      <td>0.0121</td>\n",
       "      <td>Vila Madalena</td>\n",
       "    </tr>\n",
       "    <tr>\n",
       "      <th>4</th>\n",
       "      <td>42086</td>\n",
       "      <td>5,361,147.3632</td>\n",
       "      <td>5,040,000.0000</td>\n",
       "      <td>5040000</td>\n",
       "      <td>0.0637</td>\n",
       "      <td>Alto de Pinheiros</td>\n",
       "    </tr>\n",
       "  </tbody>\n",
       "</table>\n",
       "</div>"
      ],
      "text/plain": [
       "    index  Preco_Estimado    Preco_Venda  pricinginfos_price  \\\n",
       "0  133869    774,162.1607   837,647.0000              837647   \n",
       "1   60627    423,035.6528   364,000.0000              364000   \n",
       "2    2179    453,048.9616   455,000.0000              455000   \n",
       "3   51449  3,858,679.3423 3,812,412.0000             3812412   \n",
       "4   42086  5,361,147.3632 5,040,000.0000             5040000   \n",
       "\n",
       "   Dif_Preco_Estimado_Venda address_neighborhood  \n",
       "0                   -0.0758            Pinheiros  \n",
       "1                    0.1622            Água Rasa  \n",
       "2                   -0.0043                Saúde  \n",
       "3                    0.0121        Vila Madalena  \n",
       "4                    0.0637    Alto de Pinheiros  "
      ]
     },
     "execution_count": 25,
     "metadata": {},
     "output_type": "execute_result"
    }
   ],
   "source": [
    "df_result[['index', 'Preco_Estimado', 'Preco_Venda', 'pricinginfos_price', 'Dif_Preco_Estimado_Venda', 'address_neighborhood']].head()"
   ]
  },
  {
   "cell_type": "code",
   "execution_count": null,
   "metadata": {},
   "outputs": [],
   "source": []
  }
 ],
 "metadata": {
  "kernelspec": {
   "display_name": "Python 3",
   "language": "python",
   "name": "python3"
  },
  "language_info": {
   "codemirror_mode": {
    "name": "ipython",
    "version": 3
   },
   "file_extension": ".py",
   "mimetype": "text/x-python",
   "name": "python",
   "nbconvert_exporter": "python",
   "pygments_lexer": "ipython3",
   "version": "3.7.0"
  }
 },
 "nbformat": 4,
 "nbformat_minor": 2
}
