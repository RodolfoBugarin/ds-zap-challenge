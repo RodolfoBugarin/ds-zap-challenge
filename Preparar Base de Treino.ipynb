{
 "cells": [
  {
   "cell_type": "code",
   "execution_count": 1,
   "metadata": {},
   "outputs": [],
   "source": [
    "#### Projeto: Desafio ZAP\n",
    "#### Programa para Preparar a Base de Treino do ZAP (somente para Apartamentos à Venda)\n",
    "#### Autor: Rodolfo Bugarin"
   ]
  },
  {
   "cell_type": "code",
   "execution_count": 2,
   "metadata": {},
   "outputs": [],
   "source": [
    "import pandas as pd\n",
    "import numpy as np"
   ]
  },
  {
   "cell_type": "code",
   "execution_count": 3,
   "metadata": {},
   "outputs": [],
   "source": [
    "#\n",
    "# Carregar o Dataframe\n",
    "#"
   ]
  },
  {
   "cell_type": "code",
   "execution_count": 4,
   "metadata": {},
   "outputs": [],
   "source": [
    "import pickle"
   ]
  },
  {
   "cell_type": "code",
   "execution_count": 5,
   "metadata": {},
   "outputs": [],
   "source": [
    "df = pickle.load(open('source-4-ds-train.pickle', 'rb'))"
   ]
  },
  {
   "cell_type": "code",
   "execution_count": 6,
   "metadata": {},
   "outputs": [],
   "source": [
    "#\n",
    "# Tratamento de Dados\n",
    "#"
   ]
  },
  {
   "cell_type": "code",
   "execution_count": 7,
   "metadata": {},
   "outputs": [],
   "source": [
    "# A Coluna Target/Explicada passa a ser a 1a coluna\n",
    "df.insert(loc=0, column='Preco_Venda', value=0)\n",
    "df['Preco_Venda'] = df.pricinginfos_price\n",
    "df.drop(['pricinginfos_price'], axis=1, inplace=True)"
   ]
  },
  {
   "cell_type": "code",
   "execution_count": 8,
   "metadata": {},
   "outputs": [],
   "source": [
    "# O Desafio ZAP pede estimar um preço de venda para os apartamentos no dataset de teste \n",
    "# Desta forma, para iremos gerar o modelo com base no dataset de treino somente para os imóveis \"apartamento\"\n",
    "# e que estejam à venda (ou ambos)"
   ]
  },
  {
   "cell_type": "code",
   "execution_count": 9,
   "metadata": {},
   "outputs": [
    {
     "data": {
      "text/plain": [
       "(133964, 37)"
      ]
     },
     "execution_count": 9,
     "metadata": {},
     "output_type": "execute_result"
    }
   ],
   "source": [
    "df.shape"
   ]
  },
  {
   "cell_type": "code",
   "execution_count": 10,
   "metadata": {},
   "outputs": [],
   "source": [
    "df.drop(df[df['pricinginfos_businesstype'] == 'RENTAL'].index, inplace = True) "
   ]
  },
  {
   "cell_type": "code",
   "execution_count": 11,
   "metadata": {},
   "outputs": [],
   "source": [
    "df.drop(df[df['unittypes'] != 'APARTMENT'].index, inplace = True) "
   ]
  },
  {
   "cell_type": "code",
   "execution_count": 12,
   "metadata": {},
   "outputs": [
    {
     "data": {
      "text/plain": [
       "(64146, 37)"
      ]
     },
     "execution_count": 12,
     "metadata": {},
     "output_type": "execute_result"
    }
   ],
   "source": [
    "df.shape"
   ]
  },
  {
   "cell_type": "code",
   "execution_count": 13,
   "metadata": {},
   "outputs": [],
   "source": [
    "# Criar a coluna Zona com base na coluna address_locationid\n",
    "\n",
    "# A coluna address_zone está inconsistente. A maioria dos imóveis não tem essa coluna preenchida\n",
    "# Entretanto, a coluna address_locationid possui essa informação para a maioria dos imóveis."
   ]
  },
  {
   "cell_type": "code",
   "execution_count": 14,
   "metadata": {},
   "outputs": [
    {
     "data": {
      "text/plain": [
       "address_zone\n",
       "              56488\n",
       "Centro         1564\n",
       "Zona Leste     1185\n",
       "Zona Norte     1336\n",
       "Zona Oeste     1039\n",
       "Zona Sul       2534\n",
       "Name: address_zone, dtype: int64"
      ]
     },
     "execution_count": 14,
     "metadata": {},
     "output_type": "execute_result"
    }
   ],
   "source": [
    "df.groupby('address_zone').address_zone.count()"
   ]
  },
  {
   "cell_type": "code",
   "execution_count": 15,
   "metadata": {
    "scrolled": true
   },
   "outputs": [
    {
     "data": {
      "text/html": [
       "<div>\n",
       "<style scoped>\n",
       "    .dataframe tbody tr th:only-of-type {\n",
       "        vertical-align: middle;\n",
       "    }\n",
       "\n",
       "    .dataframe tbody tr th {\n",
       "        vertical-align: top;\n",
       "    }\n",
       "\n",
       "    .dataframe thead th {\n",
       "        text-align: right;\n",
       "    }\n",
       "</style>\n",
       "<table border=\"1\" class=\"dataframe\">\n",
       "  <thead>\n",
       "    <tr style=\"text-align: right;\">\n",
       "      <th></th>\n",
       "      <th>address_locationid</th>\n",
       "      <th>Zona</th>\n",
       "    </tr>\n",
       "  </thead>\n",
       "  <tbody>\n",
       "    <tr>\n",
       "      <th>3</th>\n",
       "      <td>BR&gt;Sao Paulo&gt;NULL&gt;Sao Paulo&gt;Zona Sul&gt;Vila Olimpia</td>\n",
       "      <td>Zona Sul</td>\n",
       "    </tr>\n",
       "    <tr>\n",
       "      <th>4</th>\n",
       "      <td>BR&gt;Sao Paulo&gt;NULL&gt;Sao Paulo&gt;Zona Sul&gt;Paraiso</td>\n",
       "      <td>Zona Sul</td>\n",
       "    </tr>\n",
       "    <tr>\n",
       "      <th>6</th>\n",
       "      <td>BR&gt;Sao Paulo&gt;NULL&gt;Sao Paulo&gt;Zona Oeste&gt;Pinheiros</td>\n",
       "      <td>Zona Oeste</td>\n",
       "    </tr>\n",
       "    <tr>\n",
       "      <th>9</th>\n",
       "      <td>BR&gt;Sao Paulo&gt;NULL&gt;Sao Paulo&gt;Centro&gt;Aclimacao</td>\n",
       "      <td>Centro</td>\n",
       "    </tr>\n",
       "    <tr>\n",
       "      <th>10</th>\n",
       "      <td>BR&gt;Sao Paulo&gt;NULL&gt;Sao Paulo&gt;Zona Sul&gt;Morumbi</td>\n",
       "      <td>Zona Sul</td>\n",
       "    </tr>\n",
       "  </tbody>\n",
       "</table>\n",
       "</div>"
      ],
      "text/plain": [
       "                                   address_locationid        Zona\n",
       "3   BR>Sao Paulo>NULL>Sao Paulo>Zona Sul>Vila Olimpia    Zona Sul\n",
       "4        BR>Sao Paulo>NULL>Sao Paulo>Zona Sul>Paraiso    Zona Sul\n",
       "6    BR>Sao Paulo>NULL>Sao Paulo>Zona Oeste>Pinheiros  Zona Oeste\n",
       "9        BR>Sao Paulo>NULL>Sao Paulo>Centro>Aclimacao      Centro\n",
       "10       BR>Sao Paulo>NULL>Sao Paulo>Zona Sul>Morumbi    Zona Sul"
      ]
     },
     "execution_count": 15,
     "metadata": {},
     "output_type": "execute_result"
    }
   ],
   "source": [
    "import re \n",
    "  \n",
    "# Função para extrair zonas de São Paulo \n",
    "def Zona_names(Zona_name): \n",
    "    if re.search('\\BR>Sao Paulo>NULL>Sao Paulo>.*', Zona_name): \n",
    "        Zona_name = Zona_name[28:]\n",
    "        if re.search('\\>.*', Zona_name):\n",
    "            pos = re.search('\\>.*', Zona_name).start() \n",
    "            Zona_name = Zona_name[:pos]\n",
    "        return Zona_name\n",
    "    else: \n",
    "        return \"\" \n",
    "    \n",
    "# Criação da nova coluna Zona \n",
    "df['Zona'] = df['address_locationid'].apply(Zona_names) \n",
    "  \n",
    "# Print the updated dataframe \n",
    "df[['address_locationid', 'Zona']].head()"
   ]
  },
  {
   "cell_type": "code",
   "execution_count": 16,
   "metadata": {},
   "outputs": [
    {
     "data": {
      "text/plain": [
       "Zona\n",
       "                 44\n",
       "Centro         6621\n",
       "Zona Leste    11457\n",
       "Zona Norte    11401\n",
       "Zona Oeste     9475\n",
       "Zona Sul      25148\n",
       "Name: Zona, dtype: int64"
      ]
     },
     "execution_count": 16,
     "metadata": {},
     "output_type": "execute_result"
    }
   ],
   "source": [
    "df.groupby('Zona').Zona.count()"
   ]
  },
  {
   "cell_type": "code",
   "execution_count": 17,
   "metadata": {},
   "outputs": [
    {
     "data": {
      "text/plain": [
       "address_zone\n",
       "              38\n",
       "Zona Leste     1\n",
       "Zona Oeste     5\n",
       "Name: address_zone, dtype: int64"
      ]
     },
     "execution_count": 17,
     "metadata": {},
     "output_type": "execute_result"
    }
   ],
   "source": [
    "df[df['Zona'] ==\"\"].groupby('address_zone').address_zone.count()"
   ]
  },
  {
   "cell_type": "code",
   "execution_count": 18,
   "metadata": {},
   "outputs": [],
   "source": [
    "# Nos casos em que a nova coluna \"Zona\" ficou com contéudo \"\", preencher com o contéu da coluna \"address_zone\"\n",
    "for item in df.iterrows():\n",
    "    if item[1].Zona == \"\":\n",
    "        df.loc[item[0], 'Zona'] = item[1].address_zone"
   ]
  },
  {
   "cell_type": "code",
   "execution_count": 19,
   "metadata": {},
   "outputs": [],
   "source": [
    "# Nos casos em que a nova coluna \"Zona\" está preenhida com \"Centro\", alterar para \"Zona Centro\"\n",
    "df['Zona'] = df['Zona'].apply(lambda x: \"Zona Centro\" if x == 'Centro' else x)"
   ]
  },
  {
   "cell_type": "code",
   "execution_count": 20,
   "metadata": {
    "scrolled": true
   },
   "outputs": [
    {
     "name": "stdout",
     "output_type": "stream",
     "text": [
      "Zona\n",
      "                  38\n",
      "Zona Centro     6621\n",
      "Zona Leste     11458\n",
      "Zona Norte     11401\n",
      "Zona Oeste      9480\n",
      "Zona Sul       25148\n",
      "Name: Zona, dtype: int64\n"
     ]
    }
   ],
   "source": [
    "print(df.groupby('Zona').Zona.count())"
   ]
  },
  {
   "cell_type": "code",
   "execution_count": 21,
   "metadata": {},
   "outputs": [],
   "source": [
    "#\n",
    "# Converter as colunas categóricas em Dummies\n",
    "#"
   ]
  },
  {
   "cell_type": "code",
   "execution_count": 22,
   "metadata": {},
   "outputs": [],
   "source": [
    "import re\n",
    "\n",
    "#### Função para remover os espaços e caracteres especiais.\n",
    "def arrumar_string(v_string):\n",
    "    novo_string = v_string.replace(' ', '_')\n",
    "    novo_string = novo_string.replace('.', '')\n",
    "    novo_string = novo_string.replace('(', '')\n",
    "    novo_string = novo_string.replace(')', '')\n",
    "    novo_string = novo_string.replace('-', '')\n",
    "    novo_string = re.sub(\"\\d\", \"x\", novo_string)\n",
    "    return novo_string"
   ]
  },
  {
   "cell_type": "code",
   "execution_count": 23,
   "metadata": {},
   "outputs": [],
   "source": [
    "df.pricinginfos_businesstype = df.pricinginfos_businesstype.apply(arrumar_string)\n",
    "df['pricinginfos_businesstype'] = df['pricinginfos_businesstype'].apply(lambda x: \"SemBusinessDefinido\" if x == \"\" else x)\n",
    "df_aux = pd.get_dummies(df['pricinginfos_businesstype'])\n",
    "df = pd.concat([df, df_aux], axis=1)"
   ]
  },
  {
   "cell_type": "code",
   "execution_count": 24,
   "metadata": {},
   "outputs": [],
   "source": [
    "df.publicationtype = df.publicationtype.apply(arrumar_string)\n",
    "df['publicationtype'] = df['publicationtype'].apply(lambda x: \"SemPublicationDefinido\" if x == \"\" else x)\n",
    "df_aux = pd.get_dummies(df['publicationtype'])\n",
    "df = pd.concat([df, df_aux], axis=1)"
   ]
  },
  {
   "cell_type": "code",
   "execution_count": 25,
   "metadata": {},
   "outputs": [],
   "source": [
    "df.Zona = df.Zona.apply(arrumar_string)\n",
    "df['Zona'] = df['Zona'].apply(lambda x: \"SemZonaDefinida\" if x == \"\" else x)\n",
    "df_aux = pd.get_dummies(df['Zona'])\n",
    "df = pd.concat([df, df_aux], axis=1)"
   ]
  },
  {
   "cell_type": "code",
   "execution_count": 26,
   "metadata": {},
   "outputs": [],
   "source": [
    "#\n",
    "# Eliminar as colunas que não serão utilizadas no modelo\n",
    "#"
   ]
  },
  {
   "cell_type": "code",
   "execution_count": 27,
   "metadata": {},
   "outputs": [],
   "source": [
    "# Todas os imóveis são da cidade de São Paulo, então podemos remover cidade, estado e país\n",
    "(df.drop(['address_city', 'address_country', 'address_state'], axis=1, inplace=True))"
   ]
  },
  {
   "cell_type": "code",
   "execution_count": 28,
   "metadata": {},
   "outputs": [],
   "source": [
    "# Eliminar as colunas  tem quase todos os valores vazios\n",
    "(df.drop(['address_district', 'pricinginfos_period'], axis=1, inplace=True))"
   ]
  },
  {
   "cell_type": "code",
   "execution_count": 29,
   "metadata": {},
   "outputs": [],
   "source": [
    "# A coluna \"address_zone\" e \"address_locationid\" não são mais necessária, pois foram substituídas pela coluna \"Zona\"\n",
    "(df.drop(['address_zone', 'address_locationid'], axis=1, inplace=True))"
   ]
  },
  {
   "cell_type": "code",
   "execution_count": 30,
   "metadata": {},
   "outputs": [],
   "source": [
    "# Utilizaremos a latitude e longitude como vetor de localização do imóvel, então todos os campos de endereço podem ser removidos \n",
    "(df.drop(['address_neighborhood', 'address_street', 'address_streetnumber', 'address_unitnumber', 'address_zipcode'], axis=1, inplace=True))"
   ]
  },
  {
   "cell_type": "code",
   "execution_count": 31,
   "metadata": {},
   "outputs": [],
   "source": [
    "# Eliminar as colunas de contrale e id por serem inúteis ao modelo\n",
    "(df.drop(['createdat', 'id', 'owner', 'publisherid', 'updatedat', 'address_geolocation_precision'], axis=1, inplace=True))"
   ]
  },
  {
   "cell_type": "code",
   "execution_count": 32,
   "metadata": {},
   "outputs": [],
   "source": [
    "# Eliminar as colunas de descrição e de links\n",
    "(df.drop(['description', 'images', 'title'], axis=1, inplace=True))"
   ]
  },
  {
   "cell_type": "code",
   "execution_count": 33,
   "metadata": {},
   "outputs": [],
   "source": [
    "# Eliminar as colunas que têm valores únicos \n",
    "(df.drop(['listingstatus', 'unittypes'], axis=1, inplace=True))"
   ]
  },
  {
   "cell_type": "code",
   "execution_count": 34,
   "metadata": {},
   "outputs": [],
   "source": [
    "# Eliminar as colunas categóricas\n",
    "(df.drop(['pricinginfos_businesstype', 'publicationtype', 'Zona'], axis=1, inplace=True))"
   ]
  },
  {
   "cell_type": "code",
   "execution_count": 35,
   "metadata": {},
   "outputs": [],
   "source": [
    "#\n",
    "# Separando os dataset source-4-ds-train em \"train\" e \"test\"\n",
    "#\n",
    "\n",
    "# Nota: a base \"test\" será utlizada para medir a precisão do modelo. \n",
    "#        Essa base \"test\" não deve ser confunida com o dataset source-4-ds-test"
   ]
  },
  {
   "cell_type": "code",
   "execution_count": 36,
   "metadata": {},
   "outputs": [],
   "source": [
    "features = df.columns.tolist()[1:]"
   ]
  },
  {
   "cell_type": "code",
   "execution_count": 37,
   "metadata": {},
   "outputs": [
    {
     "data": {
      "text/plain": [
       "['address_geolocation_location_lat',\n",
       " 'address_geolocation_location_lon',\n",
       " 'bathrooms',\n",
       " 'bedrooms',\n",
       " 'parkingspaces',\n",
       " 'pricinginfos_monthlycondofee',\n",
       " 'pricinginfos_rentaltotalprice',\n",
       " 'pricinginfos_yearlyiptu',\n",
       " 'suites',\n",
       " 'totalareas',\n",
       " 'usableareas',\n",
       " 'SALE',\n",
       " 'PREMIUM',\n",
       " 'STANDARD',\n",
       " 'SemZonaDefinida',\n",
       " 'Zona_Centro',\n",
       " 'Zona_Leste',\n",
       " 'Zona_Norte',\n",
       " 'Zona_Oeste',\n",
       " 'Zona_Sul']"
      ]
     },
     "execution_count": 37,
     "metadata": {},
     "output_type": "execute_result"
    }
   ],
   "source": [
    "features"
   ]
  },
  {
   "cell_type": "code",
   "execution_count": 38,
   "metadata": {},
   "outputs": [],
   "source": [
    "from sklearn.model_selection import train_test_split"
   ]
  },
  {
   "cell_type": "code",
   "execution_count": 39,
   "metadata": {},
   "outputs": [],
   "source": [
    "X = df[features]\n",
    "y = df.Preco_Venda"
   ]
  },
  {
   "cell_type": "code",
   "execution_count": 40,
   "metadata": {},
   "outputs": [],
   "source": [
    "X_train, X_test, y_train, y_test = train_test_split(X, y, test_size=0.2, random_state =42)"
   ]
  },
  {
   "cell_type": "code",
   "execution_count": 41,
   "metadata": {},
   "outputs": [],
   "source": [
    "# DF para Guardar Medidas de Posicao de São Paulo\n",
    "df_medidas = pd.DataFrame({'Cidade': ['São Paulo']})"
   ]
  },
  {
   "cell_type": "code",
   "execution_count": 42,
   "metadata": {},
   "outputs": [],
   "source": [
    "#\n",
    "# Corrigindo os Missing e Outliers\n",
    "#"
   ]
  },
  {
   "cell_type": "code",
   "execution_count": 43,
   "metadata": {
    "scrolled": true
   },
   "outputs": [],
   "source": [
    "features = df.columns.tolist()[1:12]"
   ]
  },
  {
   "cell_type": "code",
   "execution_count": 44,
   "metadata": {},
   "outputs": [],
   "source": [
    "tam = len(df_medidas.columns)"
   ]
  },
  {
   "cell_type": "code",
   "execution_count": 45,
   "metadata": {},
   "outputs": [
    {
     "name": "stderr",
     "output_type": "stream",
     "text": [
      "C:\\ProgramData\\Anaconda3\\lib\\site-packages\\pandas\\core\\indexing.py:543: SettingWithCopyWarning: \n",
      "A value is trying to be set on a copy of a slice from a DataFrame.\n",
      "Try using .loc[row_indexer,col_indexer] = value instead\n",
      "\n",
      "See the caveats in the documentation: http://pandas.pydata.org/pandas-docs/stable/indexing.html#indexing-view-versus-copy\n",
      "  self.obj[item] = s\n"
     ]
    }
   ],
   "source": [
    "# Corrigindo Missings\n",
    "for i in features:\n",
    "    mediana = X_train[i].median()\n",
    "    X_train.loc[X_train[i].isnull(), i] = mediana\n",
    "    X_test.loc[X_test[i].isnull(), i] = mediana\n",
    "    X.loc[X[i].isnull(), i] = mediana\n",
    "\n",
    "    # Guardar Medidas de Posicao\n",
    "    coluna = i + '_mediana'\n",
    "    df_medidas.insert(loc = tam, column=coluna, value=mediana)"
   ]
  },
  {
   "cell_type": "code",
   "execution_count": 46,
   "metadata": {},
   "outputs": [
    {
     "name": "stderr",
     "output_type": "stream",
     "text": [
      "C:\\ProgramData\\Anaconda3\\lib\\site-packages\\pandas\\core\\indexing.py:543: SettingWithCopyWarning: \n",
      "A value is trying to be set on a copy of a slice from a DataFrame.\n",
      "Try using .loc[row_indexer,col_indexer] = value instead\n",
      "\n",
      "See the caveats in the documentation: http://pandas.pydata.org/pandas-docs/stable/indexing.html#indexing-view-versus-copy\n",
      "  self.obj[item] = s\n"
     ]
    }
   ],
   "source": [
    "# Corrigindo Outliers\n",
    "for i in features:\n",
    "    p99 = np.nanpercentile(X_train[i], q=99.9)\n",
    "    X_train.loc[X_train[i] > p99, i] = p99\n",
    "    X_test.loc[X_test[i] > p99, i] = p99\n",
    "    X.loc[X[i] > p99, i] = p99\n",
    "    \n",
    "    # Guardar Medidas de Posicao\n",
    "    coluna = i + '_p99'\n",
    "    df_medidas.insert(loc = tam, column=coluna, value=p99)"
   ]
  },
  {
   "cell_type": "code",
   "execution_count": 47,
   "metadata": {},
   "outputs": [
    {
     "data": {
      "text/html": [
       "<div>\n",
       "<style scoped>\n",
       "    .dataframe tbody tr th:only-of-type {\n",
       "        vertical-align: middle;\n",
       "    }\n",
       "\n",
       "    .dataframe tbody tr th {\n",
       "        vertical-align: top;\n",
       "    }\n",
       "\n",
       "    .dataframe thead th {\n",
       "        text-align: right;\n",
       "    }\n",
       "</style>\n",
       "<table border=\"1\" class=\"dataframe\">\n",
       "  <thead>\n",
       "    <tr style=\"text-align: right;\">\n",
       "      <th></th>\n",
       "      <th>Cidade</th>\n",
       "      <th>usableareas_p99</th>\n",
       "      <th>totalareas_p99</th>\n",
       "      <th>suites_p99</th>\n",
       "      <th>pricinginfos_yearlyiptu_p99</th>\n",
       "      <th>pricinginfos_rentaltotalprice_p99</th>\n",
       "      <th>pricinginfos_monthlycondofee_p99</th>\n",
       "      <th>parkingspaces_p99</th>\n",
       "      <th>bedrooms_p99</th>\n",
       "      <th>bathrooms_p99</th>\n",
       "      <th>...</th>\n",
       "      <th>totalareas_mediana</th>\n",
       "      <th>suites_mediana</th>\n",
       "      <th>pricinginfos_yearlyiptu_mediana</th>\n",
       "      <th>pricinginfos_rentaltotalprice_mediana</th>\n",
       "      <th>pricinginfos_monthlycondofee_mediana</th>\n",
       "      <th>parkingspaces_mediana</th>\n",
       "      <th>bedrooms_mediana</th>\n",
       "      <th>bathrooms_mediana</th>\n",
       "      <th>address_geolocation_location_lon_mediana</th>\n",
       "      <th>address_geolocation_location_lat_mediana</th>\n",
       "    </tr>\n",
       "  </thead>\n",
       "  <tbody>\n",
       "    <tr>\n",
       "      <th>0</th>\n",
       "      <td>São Paulo</td>\n",
       "      <td>753.0</td>\n",
       "      <td>10736.03</td>\n",
       "      <td>5.0</td>\n",
       "      <td>50801.445</td>\n",
       "      <td>0.0</td>\n",
       "      <td>30622.6</td>\n",
       "      <td>8.0</td>\n",
       "      <td>5.0</td>\n",
       "      <td>8.0</td>\n",
       "      <td>...</td>\n",
       "      <td>86.0</td>\n",
       "      <td>1.0</td>\n",
       "      <td>72.0</td>\n",
       "      <td>0.0</td>\n",
       "      <td>482.0</td>\n",
       "      <td>1.0</td>\n",
       "      <td>3.0</td>\n",
       "      <td>2.0</td>\n",
       "      <td>-46.653233</td>\n",
       "      <td>-23.560326</td>\n",
       "    </tr>\n",
       "  </tbody>\n",
       "</table>\n",
       "<p>1 rows × 23 columns</p>\n",
       "</div>"
      ],
      "text/plain": [
       "      Cidade  usableareas_p99  totalareas_p99  suites_p99  \\\n",
       "0  São Paulo            753.0        10736.03         5.0   \n",
       "\n",
       "   pricinginfos_yearlyiptu_p99  pricinginfos_rentaltotalprice_p99  \\\n",
       "0                    50801.445                                0.0   \n",
       "\n",
       "   pricinginfos_monthlycondofee_p99  parkingspaces_p99  bedrooms_p99  \\\n",
       "0                           30622.6                8.0           5.0   \n",
       "\n",
       "   bathrooms_p99                    ...                     \\\n",
       "0            8.0                    ...                      \n",
       "\n",
       "   totalareas_mediana  suites_mediana  pricinginfos_yearlyiptu_mediana  \\\n",
       "0                86.0             1.0                             72.0   \n",
       "\n",
       "   pricinginfos_rentaltotalprice_mediana  \\\n",
       "0                                    0.0   \n",
       "\n",
       "   pricinginfos_monthlycondofee_mediana  parkingspaces_mediana  \\\n",
       "0                                 482.0                    1.0   \n",
       "\n",
       "   bedrooms_mediana  bathrooms_mediana  \\\n",
       "0               3.0                2.0   \n",
       "\n",
       "   address_geolocation_location_lon_mediana  \\\n",
       "0                                -46.653233   \n",
       "\n",
       "   address_geolocation_location_lat_mediana  \n",
       "0                                -23.560326  \n",
       "\n",
       "[1 rows x 23 columns]"
      ]
     },
     "execution_count": 47,
     "metadata": {},
     "output_type": "execute_result"
    }
   ],
   "source": [
    "df_medidas.head()"
   ]
  },
  {
   "cell_type": "code",
   "execution_count": 48,
   "metadata": {},
   "outputs": [],
   "source": [
    "#\n",
    "# Criar a coluna que mede a distância entre a geolocalização de referência (mediana das coordenadas dos imóveis à venda na \n",
    "# cidade) e cada imóvel listado.\n",
    "#"
   ]
  },
  {
   "cell_type": "code",
   "execution_count": 49,
   "metadata": {},
   "outputs": [],
   "source": [
    "# Funçao para calcular a distância entre dois pontos\n",
    "from math import radians, degrees, sin, cos, asin, acos, sqrt, atan2\n",
    "\n",
    "def great_circle(lat1, lon1, lat2, lon2):\n",
    "\n",
    "    R = 6373.0\n",
    "    lat1, lon1, lat2, lon2 = map(radians, [lat1, lon1, lat2, lon2])\n",
    "\n",
    "    dlon = lon2 - lon1\n",
    "    dlat = lat2 - lat1\n",
    "\n",
    "    a = sin(dlat / 2)**2 + cos(lat1) * cos(lat2) * sin(dlon / 2)**2\n",
    "    c = 2 * atan2(sqrt(a), sqrt(1 - a))\n",
    "\n",
    "    distance = R * c\n",
    "\n",
    "    return distance"
   ]
  },
  {
   "cell_type": "code",
   "execution_count": 50,
   "metadata": {},
   "outputs": [],
   "source": [
    "lat_mediana = df_medidas.iloc[0]['address_geolocation_location_lat_mediana']"
   ]
  },
  {
   "cell_type": "code",
   "execution_count": 51,
   "metadata": {},
   "outputs": [],
   "source": [
    "lon_mediana = df_medidas.iloc[0]['address_geolocation_location_lon_mediana']"
   ]
  },
  {
   "cell_type": "code",
   "execution_count": 52,
   "metadata": {},
   "outputs": [],
   "source": [
    "# Criar a nova coluna que mede a distância do imóvel para a mediana\n",
    "\n",
    "def calculo_distancia (r):\n",
    "    v_distancia = great_circle(lat_mediana, lon_mediana, r.address_geolocation_location_lat, r.address_geolocation_location_lon)\n",
    "    return v_distancia"
   ]
  },
  {
   "cell_type": "code",
   "execution_count": 53,
   "metadata": {},
   "outputs": [
    {
     "name": "stderr",
     "output_type": "stream",
     "text": [
      "C:\\ProgramData\\Anaconda3\\lib\\site-packages\\ipykernel_launcher.py:1: SettingWithCopyWarning: \n",
      "A value is trying to be set on a copy of a slice from a DataFrame.\n",
      "Try using .loc[row_indexer,col_indexer] = value instead\n",
      "\n",
      "See the caveats in the documentation: http://pandas.pydata.org/pandas-docs/stable/indexing.html#indexing-view-versus-copy\n",
      "  \"\"\"Entry point for launching an IPython kernel.\n"
     ]
    }
   ],
   "source": [
    "X_train['Distancia'] = X_train.apply(calculo_distancia, axis=1)"
   ]
  },
  {
   "cell_type": "code",
   "execution_count": 54,
   "metadata": {},
   "outputs": [
    {
     "name": "stderr",
     "output_type": "stream",
     "text": [
      "C:\\ProgramData\\Anaconda3\\lib\\site-packages\\ipykernel_launcher.py:1: SettingWithCopyWarning: \n",
      "A value is trying to be set on a copy of a slice from a DataFrame.\n",
      "Try using .loc[row_indexer,col_indexer] = value instead\n",
      "\n",
      "See the caveats in the documentation: http://pandas.pydata.org/pandas-docs/stable/indexing.html#indexing-view-versus-copy\n",
      "  \"\"\"Entry point for launching an IPython kernel.\n"
     ]
    }
   ],
   "source": [
    "X_test['Distancia'] = X_test.apply(calculo_distancia, axis=1)"
   ]
  },
  {
   "cell_type": "code",
   "execution_count": 55,
   "metadata": {},
   "outputs": [],
   "source": [
    "X['Distancia'] = X.apply(calculo_distancia, axis=1)"
   ]
  },
  {
   "cell_type": "code",
   "execution_count": 56,
   "metadata": {},
   "outputs": [
    {
     "data": {
      "text/html": [
       "<div>\n",
       "<style scoped>\n",
       "    .dataframe tbody tr th:only-of-type {\n",
       "        vertical-align: middle;\n",
       "    }\n",
       "\n",
       "    .dataframe tbody tr th {\n",
       "        vertical-align: top;\n",
       "    }\n",
       "\n",
       "    .dataframe thead th {\n",
       "        text-align: right;\n",
       "    }\n",
       "</style>\n",
       "<table border=\"1\" class=\"dataframe\">\n",
       "  <thead>\n",
       "    <tr style=\"text-align: right;\">\n",
       "      <th></th>\n",
       "      <th>address_geolocation_location_lat</th>\n",
       "      <th>address_geolocation_location_lon</th>\n",
       "      <th>Distancia</th>\n",
       "    </tr>\n",
       "  </thead>\n",
       "  <tbody>\n",
       "    <tr>\n",
       "      <th>9669</th>\n",
       "      <td>-23.658375</td>\n",
       "      <td>-46.742390</td>\n",
       "      <td>14.195457</td>\n",
       "    </tr>\n",
       "    <tr>\n",
       "      <th>22151</th>\n",
       "      <td>-23.623977</td>\n",
       "      <td>-46.729615</td>\n",
       "      <td>10.523507</td>\n",
       "    </tr>\n",
       "    <tr>\n",
       "      <th>15864</th>\n",
       "      <td>-23.617532</td>\n",
       "      <td>-46.759563</td>\n",
       "      <td>12.568512</td>\n",
       "    </tr>\n",
       "    <tr>\n",
       "      <th>119694</th>\n",
       "      <td>-23.498732</td>\n",
       "      <td>-46.619448</td>\n",
       "      <td>7.668673</td>\n",
       "    </tr>\n",
       "    <tr>\n",
       "      <th>58317</th>\n",
       "      <td>-23.541941</td>\n",
       "      <td>-46.663567</td>\n",
       "      <td>2.300469</td>\n",
       "    </tr>\n",
       "  </tbody>\n",
       "</table>\n",
       "</div>"
      ],
      "text/plain": [
       "        address_geolocation_location_lat  address_geolocation_location_lon  \\\n",
       "9669                          -23.658375                        -46.742390   \n",
       "22151                         -23.623977                        -46.729615   \n",
       "15864                         -23.617532                        -46.759563   \n",
       "119694                        -23.498732                        -46.619448   \n",
       "58317                         -23.541941                        -46.663567   \n",
       "\n",
       "        Distancia  \n",
       "9669    14.195457  \n",
       "22151   10.523507  \n",
       "15864   12.568512  \n",
       "119694   7.668673  \n",
       "58317    2.300469  "
      ]
     },
     "execution_count": 56,
     "metadata": {},
     "output_type": "execute_result"
    }
   ],
   "source": [
    "X_train[['address_geolocation_location_lat', 'address_geolocation_location_lon', 'Distancia']].head()"
   ]
  },
  {
   "cell_type": "code",
   "execution_count": 57,
   "metadata": {},
   "outputs": [
    {
     "name": "stdout",
     "output_type": "stream",
     "text": [
      "14.195457263644874\n",
      "10.523507229454507\n",
      "12.568511926396441\n",
      "7.668672885666033\n",
      "2.300468722918037\n"
     ]
    }
   ],
   "source": [
    "# Conferindo a aplicação do cálculo no dataframe:\n",
    "\n",
    "print (great_circle(lat_mediana, lon_mediana, -23.658375, -46.742390))\n",
    "print (great_circle(lat_mediana, lon_mediana, -23.623977, -46.729615))\n",
    "print (great_circle(lat_mediana, lon_mediana, -23.617532, -46.759563))\n",
    "print (great_circle(lat_mediana, lon_mediana, -23.498732, -46.619448))\n",
    "print (great_circle(lat_mediana, lon_mediana, -23.541941, -46.663567))"
   ]
  },
  {
   "cell_type": "code",
   "execution_count": 58,
   "metadata": {},
   "outputs": [
    {
     "name": "stderr",
     "output_type": "stream",
     "text": [
      "C:\\ProgramData\\Anaconda3\\lib\\site-packages\\pandas\\core\\frame.py:3697: SettingWithCopyWarning: \n",
      "A value is trying to be set on a copy of a slice from a DataFrame\n",
      "\n",
      "See the caveats in the documentation: http://pandas.pydata.org/pandas-docs/stable/indexing.html#indexing-view-versus-copy\n",
      "  errors=errors)\n"
     ]
    }
   ],
   "source": [
    "X_train.drop(['address_geolocation_location_lat', 'address_geolocation_location_lon'], axis=1, inplace=True)"
   ]
  },
  {
   "cell_type": "code",
   "execution_count": 59,
   "metadata": {
    "scrolled": true
   },
   "outputs": [
    {
     "name": "stderr",
     "output_type": "stream",
     "text": [
      "C:\\ProgramData\\Anaconda3\\lib\\site-packages\\pandas\\core\\frame.py:3697: SettingWithCopyWarning: \n",
      "A value is trying to be set on a copy of a slice from a DataFrame\n",
      "\n",
      "See the caveats in the documentation: http://pandas.pydata.org/pandas-docs/stable/indexing.html#indexing-view-versus-copy\n",
      "  errors=errors)\n"
     ]
    }
   ],
   "source": [
    "X_test.drop(['address_geolocation_location_lat', 'address_geolocation_location_lon'], axis=1, inplace=True)"
   ]
  },
  {
   "cell_type": "code",
   "execution_count": 60,
   "metadata": {
    "scrolled": true
   },
   "outputs": [],
   "source": [
    "X.drop(['address_geolocation_location_lat', 'address_geolocation_location_lon'], axis=1, inplace=True)"
   ]
  },
  {
   "cell_type": "code",
   "execution_count": 61,
   "metadata": {
    "scrolled": true
   },
   "outputs": [
    {
     "data": {
      "text/html": [
       "<div>\n",
       "<style scoped>\n",
       "    .dataframe tbody tr th:only-of-type {\n",
       "        vertical-align: middle;\n",
       "    }\n",
       "\n",
       "    .dataframe tbody tr th {\n",
       "        vertical-align: top;\n",
       "    }\n",
       "\n",
       "    .dataframe thead th {\n",
       "        text-align: right;\n",
       "    }\n",
       "</style>\n",
       "<table border=\"1\" class=\"dataframe\">\n",
       "  <thead>\n",
       "    <tr style=\"text-align: right;\">\n",
       "      <th></th>\n",
       "      <th>bathrooms</th>\n",
       "      <th>bedrooms</th>\n",
       "      <th>parkingspaces</th>\n",
       "      <th>pricinginfos_monthlycondofee</th>\n",
       "      <th>pricinginfos_rentaltotalprice</th>\n",
       "      <th>pricinginfos_yearlyiptu</th>\n",
       "      <th>suites</th>\n",
       "      <th>totalareas</th>\n",
       "      <th>usableareas</th>\n",
       "      <th>SALE</th>\n",
       "      <th>PREMIUM</th>\n",
       "      <th>STANDARD</th>\n",
       "      <th>SemZonaDefinida</th>\n",
       "      <th>Zona_Centro</th>\n",
       "      <th>Zona_Leste</th>\n",
       "      <th>Zona_Norte</th>\n",
       "      <th>Zona_Oeste</th>\n",
       "      <th>Zona_Sul</th>\n",
       "      <th>Distancia</th>\n",
       "    </tr>\n",
       "  </thead>\n",
       "  <tbody>\n",
       "    <tr>\n",
       "      <th>133869</th>\n",
       "      <td>2.0</td>\n",
       "      <td>1.0</td>\n",
       "      <td>2.0</td>\n",
       "      <td>482.0</td>\n",
       "      <td>0.0</td>\n",
       "      <td>72.0</td>\n",
       "      <td>1.0</td>\n",
       "      <td>86.0</td>\n",
       "      <td>78.0</td>\n",
       "      <td>1</td>\n",
       "      <td>0</td>\n",
       "      <td>1</td>\n",
       "      <td>0</td>\n",
       "      <td>0</td>\n",
       "      <td>0</td>\n",
       "      <td>0</td>\n",
       "      <td>1</td>\n",
       "      <td>0</td>\n",
       "      <td>4.047358</td>\n",
       "    </tr>\n",
       "    <tr>\n",
       "      <th>60627</th>\n",
       "      <td>2.0</td>\n",
       "      <td>3.0</td>\n",
       "      <td>0.0</td>\n",
       "      <td>665.0</td>\n",
       "      <td>0.0</td>\n",
       "      <td>770.0</td>\n",
       "      <td>1.0</td>\n",
       "      <td>86.0</td>\n",
       "      <td>87.0</td>\n",
       "      <td>1</td>\n",
       "      <td>0</td>\n",
       "      <td>1</td>\n",
       "      <td>0</td>\n",
       "      <td>0</td>\n",
       "      <td>1</td>\n",
       "      <td>0</td>\n",
       "      <td>0</td>\n",
       "      <td>0</td>\n",
       "      <td>8.150184</td>\n",
       "    </tr>\n",
       "    <tr>\n",
       "      <th>2179</th>\n",
       "      <td>0.0</td>\n",
       "      <td>2.0</td>\n",
       "      <td>2.0</td>\n",
       "      <td>350.0</td>\n",
       "      <td>0.0</td>\n",
       "      <td>0.0</td>\n",
       "      <td>1.0</td>\n",
       "      <td>65.0</td>\n",
       "      <td>65.0</td>\n",
       "      <td>1</td>\n",
       "      <td>1</td>\n",
       "      <td>0</td>\n",
       "      <td>0</td>\n",
       "      <td>0</td>\n",
       "      <td>0</td>\n",
       "      <td>0</td>\n",
       "      <td>0</td>\n",
       "      <td>1</td>\n",
       "      <td>5.740084</td>\n",
       "    </tr>\n",
       "    <tr>\n",
       "      <th>51449</th>\n",
       "      <td>3.0</td>\n",
       "      <td>3.0</td>\n",
       "      <td>4.0</td>\n",
       "      <td>7.0</td>\n",
       "      <td>0.0</td>\n",
       "      <td>0.0</td>\n",
       "      <td>3.0</td>\n",
       "      <td>86.0</td>\n",
       "      <td>417.0</td>\n",
       "      <td>1</td>\n",
       "      <td>0</td>\n",
       "      <td>1</td>\n",
       "      <td>0</td>\n",
       "      <td>0</td>\n",
       "      <td>0</td>\n",
       "      <td>0</td>\n",
       "      <td>1</td>\n",
       "      <td>0</td>\n",
       "      <td>5.765512</td>\n",
       "    </tr>\n",
       "    <tr>\n",
       "      <th>42086</th>\n",
       "      <td>6.0</td>\n",
       "      <td>4.0</td>\n",
       "      <td>6.0</td>\n",
       "      <td>0.0</td>\n",
       "      <td>0.0</td>\n",
       "      <td>0.0</td>\n",
       "      <td>4.0</td>\n",
       "      <td>0.0</td>\n",
       "      <td>386.0</td>\n",
       "      <td>1</td>\n",
       "      <td>0</td>\n",
       "      <td>1</td>\n",
       "      <td>0</td>\n",
       "      <td>0</td>\n",
       "      <td>0</td>\n",
       "      <td>0</td>\n",
       "      <td>1</td>\n",
       "      <td>0</td>\n",
       "      <td>4.044988</td>\n",
       "    </tr>\n",
       "  </tbody>\n",
       "</table>\n",
       "</div>"
      ],
      "text/plain": [
       "        bathrooms  bedrooms  parkingspaces  pricinginfos_monthlycondofee  \\\n",
       "133869        2.0       1.0            2.0                         482.0   \n",
       "60627         2.0       3.0            0.0                         665.0   \n",
       "2179          0.0       2.0            2.0                         350.0   \n",
       "51449         3.0       3.0            4.0                           7.0   \n",
       "42086         6.0       4.0            6.0                           0.0   \n",
       "\n",
       "        pricinginfos_rentaltotalprice  pricinginfos_yearlyiptu  suites  \\\n",
       "133869                            0.0                     72.0     1.0   \n",
       "60627                             0.0                    770.0     1.0   \n",
       "2179                              0.0                      0.0     1.0   \n",
       "51449                             0.0                      0.0     3.0   \n",
       "42086                             0.0                      0.0     4.0   \n",
       "\n",
       "        totalareas  usableareas  SALE  PREMIUM  STANDARD  SemZonaDefinida  \\\n",
       "133869        86.0         78.0     1        0         1                0   \n",
       "60627         86.0         87.0     1        0         1                0   \n",
       "2179          65.0         65.0     1        1         0                0   \n",
       "51449         86.0        417.0     1        0         1                0   \n",
       "42086          0.0        386.0     1        0         1                0   \n",
       "\n",
       "        Zona_Centro  Zona_Leste  Zona_Norte  Zona_Oeste  Zona_Sul  Distancia  \n",
       "133869            0           0           0           1         0   4.047358  \n",
       "60627             0           1           0           0         0   8.150184  \n",
       "2179              0           0           0           0         1   5.740084  \n",
       "51449             0           0           0           1         0   5.765512  \n",
       "42086             0           0           0           1         0   4.044988  "
      ]
     },
     "execution_count": 61,
     "metadata": {},
     "output_type": "execute_result"
    }
   ],
   "source": [
    "X_test.head()"
   ]
  },
  {
   "cell_type": "code",
   "execution_count": 62,
   "metadata": {},
   "outputs": [],
   "source": [
    "#\n",
    "# Salvando as Bases\n",
    "#"
   ]
  },
  {
   "cell_type": "code",
   "execution_count": 63,
   "metadata": {},
   "outputs": [],
   "source": [
    "X.to_pickle('df_X_features.pickle')\n",
    "y.to_pickle('df_y_label.pickle')"
   ]
  },
  {
   "cell_type": "code",
   "execution_count": 64,
   "metadata": {},
   "outputs": [],
   "source": [
    "X_train.to_pickle('df_X_train_features.pickle')\n",
    "X_test.to_pickle('df_X_test_features.pickle')"
   ]
  },
  {
   "cell_type": "code",
   "execution_count": 65,
   "metadata": {},
   "outputs": [],
   "source": [
    "y_train.to_pickle('df_y_train_label.pickle')\n",
    "y_test.to_pickle('df_y_test_label.pickle')"
   ]
  },
  {
   "cell_type": "code",
   "execution_count": 66,
   "metadata": {},
   "outputs": [],
   "source": [
    "df_medidas.to_pickle('df_medidas.pickle')"
   ]
  },
  {
   "cell_type": "code",
   "execution_count": 67,
   "metadata": {},
   "outputs": [
    {
     "data": {
      "text/html": [
       "<div>\n",
       "<style scoped>\n",
       "    .dataframe tbody tr th:only-of-type {\n",
       "        vertical-align: middle;\n",
       "    }\n",
       "\n",
       "    .dataframe tbody tr th {\n",
       "        vertical-align: top;\n",
       "    }\n",
       "\n",
       "    .dataframe thead th {\n",
       "        text-align: right;\n",
       "    }\n",
       "</style>\n",
       "<table border=\"1\" class=\"dataframe\">\n",
       "  <thead>\n",
       "    <tr style=\"text-align: right;\">\n",
       "      <th></th>\n",
       "      <th>Cidade</th>\n",
       "      <th>usableareas_p99</th>\n",
       "      <th>totalareas_p99</th>\n",
       "      <th>suites_p99</th>\n",
       "      <th>pricinginfos_yearlyiptu_p99</th>\n",
       "      <th>pricinginfos_rentaltotalprice_p99</th>\n",
       "      <th>pricinginfos_monthlycondofee_p99</th>\n",
       "      <th>parkingspaces_p99</th>\n",
       "      <th>bedrooms_p99</th>\n",
       "      <th>bathrooms_p99</th>\n",
       "      <th>...</th>\n",
       "      <th>totalareas_mediana</th>\n",
       "      <th>suites_mediana</th>\n",
       "      <th>pricinginfos_yearlyiptu_mediana</th>\n",
       "      <th>pricinginfos_rentaltotalprice_mediana</th>\n",
       "      <th>pricinginfos_monthlycondofee_mediana</th>\n",
       "      <th>parkingspaces_mediana</th>\n",
       "      <th>bedrooms_mediana</th>\n",
       "      <th>bathrooms_mediana</th>\n",
       "      <th>address_geolocation_location_lon_mediana</th>\n",
       "      <th>address_geolocation_location_lat_mediana</th>\n",
       "    </tr>\n",
       "  </thead>\n",
       "  <tbody>\n",
       "    <tr>\n",
       "      <th>0</th>\n",
       "      <td>São Paulo</td>\n",
       "      <td>753.0</td>\n",
       "      <td>10736.03</td>\n",
       "      <td>5.0</td>\n",
       "      <td>50801.445</td>\n",
       "      <td>0.0</td>\n",
       "      <td>30622.6</td>\n",
       "      <td>8.0</td>\n",
       "      <td>5.0</td>\n",
       "      <td>8.0</td>\n",
       "      <td>...</td>\n",
       "      <td>86.0</td>\n",
       "      <td>1.0</td>\n",
       "      <td>72.0</td>\n",
       "      <td>0.0</td>\n",
       "      <td>482.0</td>\n",
       "      <td>1.0</td>\n",
       "      <td>3.0</td>\n",
       "      <td>2.0</td>\n",
       "      <td>-46.653233</td>\n",
       "      <td>-23.560326</td>\n",
       "    </tr>\n",
       "  </tbody>\n",
       "</table>\n",
       "<p>1 rows × 23 columns</p>\n",
       "</div>"
      ],
      "text/plain": [
       "      Cidade  usableareas_p99  totalareas_p99  suites_p99  \\\n",
       "0  São Paulo            753.0        10736.03         5.0   \n",
       "\n",
       "   pricinginfos_yearlyiptu_p99  pricinginfos_rentaltotalprice_p99  \\\n",
       "0                    50801.445                                0.0   \n",
       "\n",
       "   pricinginfos_monthlycondofee_p99  parkingspaces_p99  bedrooms_p99  \\\n",
       "0                           30622.6                8.0           5.0   \n",
       "\n",
       "   bathrooms_p99                    ...                     \\\n",
       "0            8.0                    ...                      \n",
       "\n",
       "   totalareas_mediana  suites_mediana  pricinginfos_yearlyiptu_mediana  \\\n",
       "0                86.0             1.0                             72.0   \n",
       "\n",
       "   pricinginfos_rentaltotalprice_mediana  \\\n",
       "0                                    0.0   \n",
       "\n",
       "   pricinginfos_monthlycondofee_mediana  parkingspaces_mediana  \\\n",
       "0                                 482.0                    1.0   \n",
       "\n",
       "   bedrooms_mediana  bathrooms_mediana  \\\n",
       "0               3.0                2.0   \n",
       "\n",
       "   address_geolocation_location_lon_mediana  \\\n",
       "0                                -46.653233   \n",
       "\n",
       "   address_geolocation_location_lat_mediana  \n",
       "0                                -23.560326  \n",
       "\n",
       "[1 rows x 23 columns]"
      ]
     },
     "execution_count": 67,
     "metadata": {},
     "output_type": "execute_result"
    }
   ],
   "source": [
    "df_medidas.head()"
   ]
  },
  {
   "cell_type": "code",
   "execution_count": 68,
   "metadata": {},
   "outputs": [
    {
     "data": {
      "text/html": [
       "<div>\n",
       "<style scoped>\n",
       "    .dataframe tbody tr th:only-of-type {\n",
       "        vertical-align: middle;\n",
       "    }\n",
       "\n",
       "    .dataframe tbody tr th {\n",
       "        vertical-align: top;\n",
       "    }\n",
       "\n",
       "    .dataframe thead th {\n",
       "        text-align: right;\n",
       "    }\n",
       "</style>\n",
       "<table border=\"1\" class=\"dataframe\">\n",
       "  <thead>\n",
       "    <tr style=\"text-align: right;\">\n",
       "      <th></th>\n",
       "      <th>bathrooms</th>\n",
       "      <th>bedrooms</th>\n",
       "      <th>parkingspaces</th>\n",
       "      <th>pricinginfos_monthlycondofee</th>\n",
       "      <th>pricinginfos_rentaltotalprice</th>\n",
       "      <th>pricinginfos_yearlyiptu</th>\n",
       "      <th>suites</th>\n",
       "      <th>totalareas</th>\n",
       "      <th>usableareas</th>\n",
       "      <th>SALE</th>\n",
       "      <th>PREMIUM</th>\n",
       "      <th>STANDARD</th>\n",
       "      <th>SemZonaDefinida</th>\n",
       "      <th>Zona_Centro</th>\n",
       "      <th>Zona_Leste</th>\n",
       "      <th>Zona_Norte</th>\n",
       "      <th>Zona_Oeste</th>\n",
       "      <th>Zona_Sul</th>\n",
       "      <th>Distancia</th>\n",
       "    </tr>\n",
       "  </thead>\n",
       "  <tbody>\n",
       "    <tr>\n",
       "      <th>9669</th>\n",
       "      <td>1.0</td>\n",
       "      <td>2.0</td>\n",
       "      <td>1.0</td>\n",
       "      <td>118.0</td>\n",
       "      <td>0.0</td>\n",
       "      <td>8.0</td>\n",
       "      <td>0.0</td>\n",
       "      <td>52.0</td>\n",
       "      <td>52.0</td>\n",
       "      <td>1</td>\n",
       "      <td>0</td>\n",
       "      <td>1</td>\n",
       "      <td>0</td>\n",
       "      <td>0</td>\n",
       "      <td>0</td>\n",
       "      <td>0</td>\n",
       "      <td>0</td>\n",
       "      <td>1</td>\n",
       "      <td>14.195457</td>\n",
       "    </tr>\n",
       "    <tr>\n",
       "      <th>22151</th>\n",
       "      <td>2.0</td>\n",
       "      <td>3.0</td>\n",
       "      <td>2.0</td>\n",
       "      <td>1143.0</td>\n",
       "      <td>0.0</td>\n",
       "      <td>280.0</td>\n",
       "      <td>1.0</td>\n",
       "      <td>254.0</td>\n",
       "      <td>132.0</td>\n",
       "      <td>1</td>\n",
       "      <td>0</td>\n",
       "      <td>1</td>\n",
       "      <td>0</td>\n",
       "      <td>0</td>\n",
       "      <td>0</td>\n",
       "      <td>0</td>\n",
       "      <td>0</td>\n",
       "      <td>1</td>\n",
       "      <td>10.523507</td>\n",
       "    </tr>\n",
       "    <tr>\n",
       "      <th>15864</th>\n",
       "      <td>1.0</td>\n",
       "      <td>2.0</td>\n",
       "      <td>1.0</td>\n",
       "      <td>322.0</td>\n",
       "      <td>0.0</td>\n",
       "      <td>560.0</td>\n",
       "      <td>1.0</td>\n",
       "      <td>86.0</td>\n",
       "      <td>44.0</td>\n",
       "      <td>1</td>\n",
       "      <td>0</td>\n",
       "      <td>1</td>\n",
       "      <td>0</td>\n",
       "      <td>0</td>\n",
       "      <td>0</td>\n",
       "      <td>0</td>\n",
       "      <td>0</td>\n",
       "      <td>1</td>\n",
       "      <td>12.568512</td>\n",
       "    </tr>\n",
       "    <tr>\n",
       "      <th>119694</th>\n",
       "      <td>6.0</td>\n",
       "      <td>4.0</td>\n",
       "      <td>4.0</td>\n",
       "      <td>482.0</td>\n",
       "      <td>0.0</td>\n",
       "      <td>72.0</td>\n",
       "      <td>2.0</td>\n",
       "      <td>146.0</td>\n",
       "      <td>146.0</td>\n",
       "      <td>1</td>\n",
       "      <td>0</td>\n",
       "      <td>1</td>\n",
       "      <td>0</td>\n",
       "      <td>0</td>\n",
       "      <td>0</td>\n",
       "      <td>1</td>\n",
       "      <td>0</td>\n",
       "      <td>0</td>\n",
       "      <td>7.668673</td>\n",
       "    </tr>\n",
       "    <tr>\n",
       "      <th>58317</th>\n",
       "      <td>2.0</td>\n",
       "      <td>4.0</td>\n",
       "      <td>3.0</td>\n",
       "      <td>2467.0</td>\n",
       "      <td>0.0</td>\n",
       "      <td>1705.0</td>\n",
       "      <td>4.0</td>\n",
       "      <td>86.0</td>\n",
       "      <td>231.0</td>\n",
       "      <td>1</td>\n",
       "      <td>0</td>\n",
       "      <td>1</td>\n",
       "      <td>0</td>\n",
       "      <td>1</td>\n",
       "      <td>0</td>\n",
       "      <td>0</td>\n",
       "      <td>0</td>\n",
       "      <td>0</td>\n",
       "      <td>2.300469</td>\n",
       "    </tr>\n",
       "  </tbody>\n",
       "</table>\n",
       "</div>"
      ],
      "text/plain": [
       "        bathrooms  bedrooms  parkingspaces  pricinginfos_monthlycondofee  \\\n",
       "9669          1.0       2.0            1.0                         118.0   \n",
       "22151         2.0       3.0            2.0                        1143.0   \n",
       "15864         1.0       2.0            1.0                         322.0   \n",
       "119694        6.0       4.0            4.0                         482.0   \n",
       "58317         2.0       4.0            3.0                        2467.0   \n",
       "\n",
       "        pricinginfos_rentaltotalprice  pricinginfos_yearlyiptu  suites  \\\n",
       "9669                              0.0                      8.0     0.0   \n",
       "22151                             0.0                    280.0     1.0   \n",
       "15864                             0.0                    560.0     1.0   \n",
       "119694                            0.0                     72.0     2.0   \n",
       "58317                             0.0                   1705.0     4.0   \n",
       "\n",
       "        totalareas  usableareas  SALE  PREMIUM  STANDARD  SemZonaDefinida  \\\n",
       "9669          52.0         52.0     1        0         1                0   \n",
       "22151        254.0        132.0     1        0         1                0   \n",
       "15864         86.0         44.0     1        0         1                0   \n",
       "119694       146.0        146.0     1        0         1                0   \n",
       "58317         86.0        231.0     1        0         1                0   \n",
       "\n",
       "        Zona_Centro  Zona_Leste  Zona_Norte  Zona_Oeste  Zona_Sul  Distancia  \n",
       "9669              0           0           0           0         1  14.195457  \n",
       "22151             0           0           0           0         1  10.523507  \n",
       "15864             0           0           0           0         1  12.568512  \n",
       "119694            0           0           1           0         0   7.668673  \n",
       "58317             1           0           0           0         0   2.300469  "
      ]
     },
     "execution_count": 68,
     "metadata": {},
     "output_type": "execute_result"
    }
   ],
   "source": [
    "X_train.head()"
   ]
  },
  {
   "cell_type": "code",
   "execution_count": null,
   "metadata": {},
   "outputs": [],
   "source": []
  }
 ],
 "metadata": {
  "kernelspec": {
   "display_name": "Python 3",
   "language": "python",
   "name": "python3"
  },
  "language_info": {
   "codemirror_mode": {
    "name": "ipython",
    "version": 3
   },
   "file_extension": ".py",
   "mimetype": "text/x-python",
   "name": "python",
   "nbconvert_exporter": "python",
   "pygments_lexer": "ipython3",
   "version": "3.7.0"
  }
 },
 "nbformat": 4,
 "nbformat_minor": 2
}
