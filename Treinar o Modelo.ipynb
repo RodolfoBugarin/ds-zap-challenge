{
 "cells": [
  {
   "cell_type": "code",
   "execution_count": 1,
   "metadata": {},
   "outputs": [],
   "source": [
    "#### Projeto: Desafio ZAP\n",
    "#### Programa para Treinar o Modelo do ZAP com hiperparâmetros iniciais\n",
    "#### Autor: Rodolfo Bugarin"
   ]
  },
  {
   "cell_type": "code",
   "execution_count": 2,
   "metadata": {},
   "outputs": [],
   "source": [
    "import pandas as pd\n",
    "import numpy as np\n",
    "import sklearn as sk\n",
    "import pickle\n",
    "from sklearn.model_selection import GridSearchCV\n",
    "from sklearn.metrics import mean_squared_error\n",
    "from sklearn.metrics import r2_score"
   ]
  },
  {
   "cell_type": "code",
   "execution_count": 3,
   "metadata": {},
   "outputs": [],
   "source": [
    "#\n",
    "# Carregar os Dataframes\n",
    "#"
   ]
  },
  {
   "cell_type": "code",
   "execution_count": 4,
   "metadata": {},
   "outputs": [],
   "source": [
    "X = pd.read_pickle('df_X_features.pickle')\n",
    "y = pd.read_pickle('df_y_label.pickle') "
   ]
  },
  {
   "cell_type": "code",
   "execution_count": 5,
   "metadata": {},
   "outputs": [],
   "source": [
    "X_train = pd.read_pickle('df_X_train_features.pickle')\n",
    "X_test = pd.read_pickle('df_X_test_features.pickle') "
   ]
  },
  {
   "cell_type": "code",
   "execution_count": 6,
   "metadata": {},
   "outputs": [],
   "source": [
    "y_train = pd.read_pickle('df_y_train_label.pickle')\n",
    "y_test = pd.read_pickle('df_y_test_label.pickle') "
   ]
  },
  {
   "cell_type": "code",
   "execution_count": 7,
   "metadata": {},
   "outputs": [],
   "source": [
    "# Scaling"
   ]
  },
  {
   "cell_type": "code",
   "execution_count": 8,
   "metadata": {},
   "outputs": [
    {
     "data": {
      "text/plain": [
       "StandardScaler(copy=True, with_mean=True, with_std=True)"
      ]
     },
     "execution_count": 8,
     "metadata": {},
     "output_type": "execute_result"
    }
   ],
   "source": [
    "from sklearn.preprocessing import StandardScaler\n",
    "scaler = StandardScaler()\n",
    "# Fit the training data\n",
    "scaler.fit(X_train)"
   ]
  },
  {
   "cell_type": "code",
   "execution_count": 9,
   "metadata": {},
   "outputs": [],
   "source": [
    "# Apply the transformations to the data:\n",
    "X_train = scaler.transform(X_train)\n",
    "X_test = scaler.transform(X_test)"
   ]
  },
  {
   "cell_type": "code",
   "execution_count": 10,
   "metadata": {},
   "outputs": [],
   "source": [
    "# Linear Regression"
   ]
  },
  {
   "cell_type": "code",
   "execution_count": 11,
   "metadata": {},
   "outputs": [],
   "source": [
    "from sklearn.linear_model import LinearRegression\n",
    "lr = LinearRegression()"
   ]
  },
  {
   "cell_type": "code",
   "execution_count": 12,
   "metadata": {},
   "outputs": [],
   "source": [
    "modelo_lr = lr.fit(X_train, y_train)"
   ]
  },
  {
   "cell_type": "code",
   "execution_count": 13,
   "metadata": {},
   "outputs": [],
   "source": [
    "predictions = modelo_lr.predict(X_test)"
   ]
  },
  {
   "cell_type": "code",
   "execution_count": 14,
   "metadata": {},
   "outputs": [
    {
     "name": "stdout",
     "output_type": "stream",
     "text": [
      "MSE: 291835697493.7581\n",
      "R2: 0.7119\n"
     ]
    }
   ],
   "source": [
    "mse = mean_squared_error(y_test, predictions)\n",
    "print(\"MSE: %.4f\" % mse)\n",
    "r2 = r2_score(y_test, predictions)\n",
    "print(\"R2: %.4f\" % r2)"
   ]
  },
  {
   "cell_type": "code",
   "execution_count": 15,
   "metadata": {},
   "outputs": [],
   "source": [
    "import statsmodels.api as sm"
   ]
  },
  {
   "cell_type": "code",
   "execution_count": 16,
   "metadata": {},
   "outputs": [],
   "source": [
    "cols = list(X.columns)\n",
    "X_train_statsmodels = pd.DataFrame(X_train, columns=cols)\n",
    "X_train_statsmodels = sm.add_constant(X_train_statsmodels)\n",
    "Y_train_statsmodels = pd.DataFrame(y_train).reset_index(drop=True)"
   ]
  },
  {
   "cell_type": "code",
   "execution_count": 17,
   "metadata": {
    "scrolled": true
   },
   "outputs": [],
   "source": [
    "modelo_lr_statsmodels = sm.OLS(Y_train_statsmodels, X_train_statsmodels).fit()"
   ]
  },
  {
   "cell_type": "code",
   "execution_count": 18,
   "metadata": {
    "scrolled": true
   },
   "outputs": [
    {
     "data": {
      "text/html": [
       "<table class=\"simpletable\">\n",
       "<caption>OLS Regression Results</caption>\n",
       "<tr>\n",
       "  <th>Dep. Variable:</th>       <td>Preco_Venda</td>   <th>  R-squared:         </th>  <td>   0.621</td>  \n",
       "</tr>\n",
       "<tr>\n",
       "  <th>Model:</th>                   <td>OLS</td>       <th>  Adj. R-squared:    </th>  <td>   0.621</td>  \n",
       "</tr>\n",
       "<tr>\n",
       "  <th>Method:</th>             <td>Least Squares</td>  <th>  F-statistic:       </th>  <td>   5606.</td>  \n",
       "</tr>\n",
       "<tr>\n",
       "  <th>Date:</th>             <td>Thu, 05 Sep 2019</td> <th>  Prob (F-statistic):</th>   <td>  0.00</td>   \n",
       "</tr>\n",
       "<tr>\n",
       "  <th>Time:</th>                 <td>18:05:29</td>     <th>  Log-Likelihood:    </th> <td>-7.5975e+05</td>\n",
       "</tr>\n",
       "<tr>\n",
       "  <th>No. Observations:</th>      <td> 51316</td>      <th>  AIC:               </th>  <td>1.520e+06</td> \n",
       "</tr>\n",
       "<tr>\n",
       "  <th>Df Residuals:</th>          <td> 51300</td>      <th>  BIC:               </th>  <td>1.520e+06</td> \n",
       "</tr>\n",
       "<tr>\n",
       "  <th>Df Model:</th>              <td>    15</td>      <th>                     </th>      <td> </td>     \n",
       "</tr>\n",
       "<tr>\n",
       "  <th>Covariance Type:</th>      <td>nonrobust</td>    <th>                     </th>      <td> </td>     \n",
       "</tr>\n",
       "</table>\n",
       "<table class=\"simpletable\">\n",
       "<tr>\n",
       "                <td></td>                   <th>coef</th>     <th>std err</th>      <th>t</th>      <th>P>|t|</th>  <th>[0.025</th>    <th>0.975]</th>  \n",
       "</tr>\n",
       "<tr>\n",
       "  <th>const</th>                         <td> 7.636e+05</td> <td> 2874.429</td> <td>  265.667</td> <td> 0.000</td> <td> 7.58e+05</td> <td> 7.69e+05</td>\n",
       "</tr>\n",
       "<tr>\n",
       "  <th>bathrooms</th>                     <td>-3.007e+04</td> <td> 4700.838</td> <td>   -6.397</td> <td> 0.000</td> <td>-3.93e+04</td> <td>-2.09e+04</td>\n",
       "</tr>\n",
       "<tr>\n",
       "  <th>bedrooms</th>                      <td>-1.376e+05</td> <td> 4131.513</td> <td>  -33.300</td> <td> 0.000</td> <td>-1.46e+05</td> <td>-1.29e+05</td>\n",
       "</tr>\n",
       "<tr>\n",
       "  <th>parkingspaces</th>                 <td> 1.656e+05</td> <td> 5117.097</td> <td>   32.355</td> <td> 0.000</td> <td> 1.56e+05</td> <td> 1.76e+05</td>\n",
       "</tr>\n",
       "<tr>\n",
       "  <th>pricinginfos_monthlycondofee</th>  <td> 6.834e+04</td> <td> 3269.293</td> <td>   20.904</td> <td> 0.000</td> <td> 6.19e+04</td> <td> 7.47e+04</td>\n",
       "</tr>\n",
       "<tr>\n",
       "  <th>pricinginfos_rentaltotalprice</th> <td>-7.217e-12</td> <td> 1.59e-12</td> <td>   -4.544</td> <td> 0.000</td> <td>-1.03e-11</td> <td> -4.1e-12</td>\n",
       "</tr>\n",
       "<tr>\n",
       "  <th>pricinginfos_yearlyiptu</th>       <td>  1.26e+04</td> <td> 2960.012</td> <td>    4.257</td> <td> 0.000</td> <td> 6799.029</td> <td> 1.84e+04</td>\n",
       "</tr>\n",
       "<tr>\n",
       "  <th>suites</th>                        <td> 2.291e+04</td> <td> 5082.838</td> <td>    4.507</td> <td> 0.000</td> <td> 1.29e+04</td> <td> 3.29e+04</td>\n",
       "</tr>\n",
       "<tr>\n",
       "  <th>totalareas</th>                    <td>-1455.0624</td> <td> 2906.076</td> <td>   -0.501</td> <td> 0.617</td> <td>-7151.002</td> <td> 4240.877</td>\n",
       "</tr>\n",
       "<tr>\n",
       "  <th>usableareas</th>                   <td> 7.167e+05</td> <td> 5300.488</td> <td>  135.216</td> <td> 0.000</td> <td> 7.06e+05</td> <td> 7.27e+05</td>\n",
       "</tr>\n",
       "<tr>\n",
       "  <th>SALE</th>                          <td> 6.172e-11</td> <td> 9.88e-13</td> <td>   62.473</td> <td> 0.000</td> <td> 5.98e-11</td> <td> 6.37e-11</td>\n",
       "</tr>\n",
       "<tr>\n",
       "  <th>PREMIUM</th>                       <td> 2367.4448</td> <td> 1438.367</td> <td>    1.646</td> <td> 0.100</td> <td> -451.769</td> <td> 5186.659</td>\n",
       "</tr>\n",
       "<tr>\n",
       "  <th>STANDARD</th>                      <td>-2367.4448</td> <td> 1438.367</td> <td>   -1.646</td> <td> 0.100</td> <td>-5186.659</td> <td>  451.769</td>\n",
       "</tr>\n",
       "<tr>\n",
       "  <th>SemZonaDefinida</th>               <td> 3866.6849</td> <td> 2873.255</td> <td>    1.346</td> <td> 0.178</td> <td>-1764.924</td> <td> 9498.293</td>\n",
       "</tr>\n",
       "<tr>\n",
       "  <th>Zona_Centro</th>                   <td>-3.826e+04</td> <td> 3004.537</td> <td>  -12.733</td> <td> 0.000</td> <td>-4.41e+04</td> <td>-3.24e+04</td>\n",
       "</tr>\n",
       "<tr>\n",
       "  <th>Zona_Leste</th>                    <td>-1.195e+04</td> <td> 2514.566</td> <td>   -4.753</td> <td> 0.000</td> <td>-1.69e+04</td> <td>-7023.715</td>\n",
       "</tr>\n",
       "<tr>\n",
       "  <th>Zona_Norte</th>                    <td>-1.196e+04</td> <td> 2464.755</td> <td>   -4.852</td> <td> 0.000</td> <td>-1.68e+04</td> <td>-7127.760</td>\n",
       "</tr>\n",
       "<tr>\n",
       "  <th>Zona_Oeste</th>                    <td> 1.611e+04</td> <td> 2413.904</td> <td>    6.675</td> <td> 0.000</td> <td> 1.14e+04</td> <td> 2.08e+04</td>\n",
       "</tr>\n",
       "<tr>\n",
       "  <th>Zona_Sul</th>                      <td> 3.082e+04</td> <td> 2019.449</td> <td>   15.261</td> <td> 0.000</td> <td> 2.69e+04</td> <td> 3.48e+04</td>\n",
       "</tr>\n",
       "<tr>\n",
       "  <th>Distancia</th>                     <td>-1.005e+05</td> <td> 3685.156</td> <td>  -27.270</td> <td> 0.000</td> <td>-1.08e+05</td> <td>-9.33e+04</td>\n",
       "</tr>\n",
       "</table>\n",
       "<table class=\"simpletable\">\n",
       "<tr>\n",
       "  <th>Omnibus:</th>       <td>138133.617</td> <th>  Durbin-Watson:     </th>    <td>   1.998</td>    \n",
       "</tr>\n",
       "<tr>\n",
       "  <th>Prob(Omnibus):</th>   <td> 0.000</td>   <th>  Jarque-Bera (JB):  </th> <td>20775083575.730</td>\n",
       "</tr>\n",
       "<tr>\n",
       "  <th>Skew:</th>            <td>32.189</td>   <th>  Prob(JB):          </th>    <td>    0.00</td>    \n",
       "</tr>\n",
       "<tr>\n",
       "  <th>Kurtosis:</th>       <td>3119.434</td>  <th>  Cond. No.          </th>    <td>1.60e+17</td>    \n",
       "</tr>\n",
       "</table><br/><br/>Warnings:<br/>[1] Standard Errors assume that the covariance matrix of the errors is correctly specified.<br/>[2] The smallest eigenvalue is 8.32e-30. This might indicate that there are<br/>strong multicollinearity problems or that the design matrix is singular."
      ],
      "text/plain": [
       "<class 'statsmodels.iolib.summary.Summary'>\n",
       "\"\"\"\n",
       "                            OLS Regression Results                            \n",
       "==============================================================================\n",
       "Dep. Variable:            Preco_Venda   R-squared:                       0.621\n",
       "Model:                            OLS   Adj. R-squared:                  0.621\n",
       "Method:                 Least Squares   F-statistic:                     5606.\n",
       "Date:                Thu, 05 Sep 2019   Prob (F-statistic):               0.00\n",
       "Time:                        18:05:29   Log-Likelihood:            -7.5975e+05\n",
       "No. Observations:               51316   AIC:                         1.520e+06\n",
       "Df Residuals:                   51300   BIC:                         1.520e+06\n",
       "Df Model:                          15                                         \n",
       "Covariance Type:            nonrobust                                         \n",
       "=================================================================================================\n",
       "                                    coef    std err          t      P>|t|      [0.025      0.975]\n",
       "-------------------------------------------------------------------------------------------------\n",
       "const                          7.636e+05   2874.429    265.667      0.000    7.58e+05    7.69e+05\n",
       "bathrooms                     -3.007e+04   4700.838     -6.397      0.000   -3.93e+04   -2.09e+04\n",
       "bedrooms                      -1.376e+05   4131.513    -33.300      0.000   -1.46e+05   -1.29e+05\n",
       "parkingspaces                  1.656e+05   5117.097     32.355      0.000    1.56e+05    1.76e+05\n",
       "pricinginfos_monthlycondofee   6.834e+04   3269.293     20.904      0.000    6.19e+04    7.47e+04\n",
       "pricinginfos_rentaltotalprice -7.217e-12   1.59e-12     -4.544      0.000   -1.03e-11    -4.1e-12\n",
       "pricinginfos_yearlyiptu         1.26e+04   2960.012      4.257      0.000    6799.029    1.84e+04\n",
       "suites                         2.291e+04   5082.838      4.507      0.000    1.29e+04    3.29e+04\n",
       "totalareas                    -1455.0624   2906.076     -0.501      0.617   -7151.002    4240.877\n",
       "usableareas                    7.167e+05   5300.488    135.216      0.000    7.06e+05    7.27e+05\n",
       "SALE                           6.172e-11   9.88e-13     62.473      0.000    5.98e-11    6.37e-11\n",
       "PREMIUM                        2367.4448   1438.367      1.646      0.100    -451.769    5186.659\n",
       "STANDARD                      -2367.4448   1438.367     -1.646      0.100   -5186.659     451.769\n",
       "SemZonaDefinida                3866.6849   2873.255      1.346      0.178   -1764.924    9498.293\n",
       "Zona_Centro                   -3.826e+04   3004.537    -12.733      0.000   -4.41e+04   -3.24e+04\n",
       "Zona_Leste                    -1.195e+04   2514.566     -4.753      0.000   -1.69e+04   -7023.715\n",
       "Zona_Norte                    -1.196e+04   2464.755     -4.852      0.000   -1.68e+04   -7127.760\n",
       "Zona_Oeste                     1.611e+04   2413.904      6.675      0.000    1.14e+04    2.08e+04\n",
       "Zona_Sul                       3.082e+04   2019.449     15.261      0.000    2.69e+04    3.48e+04\n",
       "Distancia                     -1.005e+05   3685.156    -27.270      0.000   -1.08e+05   -9.33e+04\n",
       "==============================================================================\n",
       "Omnibus:                   138133.617   Durbin-Watson:                   1.998\n",
       "Prob(Omnibus):                  0.000   Jarque-Bera (JB):      20775083575.730\n",
       "Skew:                          32.189   Prob(JB):                         0.00\n",
       "Kurtosis:                    3119.434   Cond. No.                     1.60e+17\n",
       "==============================================================================\n",
       "\n",
       "Warnings:\n",
       "[1] Standard Errors assume that the covariance matrix of the errors is correctly specified.\n",
       "[2] The smallest eigenvalue is 8.32e-30. This might indicate that there are\n",
       "strong multicollinearity problems or that the design matrix is singular.\n",
       "\"\"\""
      ]
     },
     "execution_count": 18,
     "metadata": {},
     "output_type": "execute_result"
    }
   ],
   "source": [
    "modelo_lr_statsmodels.summary()"
   ]
  },
  {
   "cell_type": "code",
   "execution_count": 19,
   "metadata": {},
   "outputs": [],
   "source": [
    "X_test_statsmodels = pd.DataFrame(X_test, columns=cols)\n",
    "X_test_statsmodels = sm.add_constant(X_test_statsmodels)\n",
    "predictions = modelo_lr_statsmodels.predict(X_test_statsmodels)"
   ]
  },
  {
   "cell_type": "code",
   "execution_count": 20,
   "metadata": {},
   "outputs": [
    {
     "name": "stdout",
     "output_type": "stream",
     "text": [
      "MSE: 291844314888.1086\n",
      "R2: 0.7119\n"
     ]
    }
   ],
   "source": [
    "mse = mean_squared_error(y_test, predictions)\n",
    "print(\"MSE: %.4f\" % mse)\n",
    "r2 = r2_score(y_test, predictions)\n",
    "print(\"R2: %.4f\" % r2)"
   ]
  },
  {
   "cell_type": "code",
   "execution_count": 21,
   "metadata": {},
   "outputs": [
    {
     "name": "stdout",
     "output_type": "stream",
     "text": [
      "['bathrooms', 'bedrooms', 'parkingspaces', 'pricinginfos_monthlycondofee', 'pricinginfos_yearlyiptu', 'suites', 'usableareas', 'Zona_Centro', 'Zona_Leste', 'Zona_Norte', 'Zona_Oeste', 'Distancia']\n"
     ]
    }
   ],
   "source": [
    "#Backward Elimination\n",
    "cols = list(X.columns)\n",
    "pmax = 1\n",
    "while (len(cols)>0):\n",
    "    p= []\n",
    "    modelo_lr_statsmodels = sm.OLS(Y_train_statsmodels,X_train_statsmodels).fit()\n",
    "    p = pd.Series(modelo_lr_statsmodels.pvalues.values[1:],index = cols)      \n",
    "    pmax = max(p)\n",
    "    feature_with_p_max = p.idxmax()\n",
    "    if(pmax>0.05):\n",
    "        cols.remove(feature_with_p_max)\n",
    "        X_train_statsmodels.drop([feature_with_p_max], axis=1, inplace=True)\n",
    "        X_test_statsmodels.drop([feature_with_p_max], axis=1, inplace=True)\n",
    "    else:\n",
    "        break\n",
    "selected_features_BE = cols\n",
    "print(selected_features_BE)"
   ]
  },
  {
   "cell_type": "code",
   "execution_count": 22,
   "metadata": {
    "scrolled": true
   },
   "outputs": [
    {
     "data": {
      "text/html": [
       "<table class=\"simpletable\">\n",
       "<caption>OLS Regression Results</caption>\n",
       "<tr>\n",
       "  <th>Dep. Variable:</th>       <td>Preco_Venda</td>   <th>  R-squared:         </th>  <td>   0.621</td>  \n",
       "</tr>\n",
       "<tr>\n",
       "  <th>Model:</th>                   <td>OLS</td>       <th>  Adj. R-squared:    </th>  <td>   0.621</td>  \n",
       "</tr>\n",
       "<tr>\n",
       "  <th>Method:</th>             <td>Least Squares</td>  <th>  F-statistic:       </th>  <td>   7008.</td>  \n",
       "</tr>\n",
       "<tr>\n",
       "  <th>Date:</th>             <td>Thu, 05 Sep 2019</td> <th>  Prob (F-statistic):</th>   <td>  0.00</td>   \n",
       "</tr>\n",
       "<tr>\n",
       "  <th>Time:</th>                 <td>18:05:29</td>     <th>  Log-Likelihood:    </th> <td>-7.5975e+05</td>\n",
       "</tr>\n",
       "<tr>\n",
       "  <th>No. Observations:</th>      <td> 51316</td>      <th>  AIC:               </th>  <td>1.520e+06</td> \n",
       "</tr>\n",
       "<tr>\n",
       "  <th>Df Residuals:</th>          <td> 51303</td>      <th>  BIC:               </th>  <td>1.520e+06</td> \n",
       "</tr>\n",
       "<tr>\n",
       "  <th>Df Model:</th>              <td>    12</td>      <th>                     </th>      <td> </td>     \n",
       "</tr>\n",
       "<tr>\n",
       "  <th>Covariance Type:</th>      <td>nonrobust</td>    <th>                     </th>      <td> </td>     \n",
       "</tr>\n",
       "</table>\n",
       "<table class=\"simpletable\">\n",
       "<tr>\n",
       "                <td></td>                  <th>coef</th>     <th>std err</th>      <th>t</th>      <th>P>|t|</th>  <th>[0.025</th>    <th>0.975]</th>  \n",
       "</tr>\n",
       "<tr>\n",
       "  <th>const</th>                        <td> 7.636e+05</td> <td> 2874.448</td> <td>  265.666</td> <td> 0.000</td> <td> 7.58e+05</td> <td> 7.69e+05</td>\n",
       "</tr>\n",
       "<tr>\n",
       "  <th>bathrooms</th>                    <td>-3.015e+04</td> <td> 4700.550</td> <td>   -6.413</td> <td> 0.000</td> <td>-3.94e+04</td> <td>-2.09e+04</td>\n",
       "</tr>\n",
       "<tr>\n",
       "  <th>bedrooms</th>                     <td>-1.376e+05</td> <td> 4131.314</td> <td>  -33.315</td> <td> 0.000</td> <td>-1.46e+05</td> <td> -1.3e+05</td>\n",
       "</tr>\n",
       "<tr>\n",
       "  <th>parkingspaces</th>                <td> 1.656e+05</td> <td> 5116.738</td> <td>   32.361</td> <td> 0.000</td> <td> 1.56e+05</td> <td> 1.76e+05</td>\n",
       "</tr>\n",
       "<tr>\n",
       "  <th>pricinginfos_monthlycondofee</th> <td> 6.841e+04</td> <td> 3268.814</td> <td>   20.928</td> <td> 0.000</td> <td>  6.2e+04</td> <td> 7.48e+04</td>\n",
       "</tr>\n",
       "<tr>\n",
       "  <th>pricinginfos_yearlyiptu</th>      <td> 1.265e+04</td> <td> 2959.907</td> <td>    4.273</td> <td> 0.000</td> <td> 6845.982</td> <td> 1.84e+04</td>\n",
       "</tr>\n",
       "<tr>\n",
       "  <th>suites</th>                       <td> 2.298e+04</td> <td> 5082.565</td> <td>    4.521</td> <td> 0.000</td> <td>  1.3e+04</td> <td> 3.29e+04</td>\n",
       "</tr>\n",
       "<tr>\n",
       "  <th>usableareas</th>                  <td> 7.165e+05</td> <td> 5280.541</td> <td>  135.680</td> <td> 0.000</td> <td> 7.06e+05</td> <td> 7.27e+05</td>\n",
       "</tr>\n",
       "<tr>\n",
       "  <th>Zona_Centro</th>                  <td> -5.75e+04</td> <td> 3417.695</td> <td>  -16.823</td> <td> 0.000</td> <td>-6.42e+04</td> <td>-5.08e+04</td>\n",
       "</tr>\n",
       "<tr>\n",
       "  <th>Zona_Leste</th>                   <td>-3.623e+04</td> <td> 3387.067</td> <td>  -10.697</td> <td> 0.000</td> <td>-4.29e+04</td> <td>-2.96e+04</td>\n",
       "</tr>\n",
       "<tr>\n",
       "  <th>Zona_Norte</th>                   <td>-3.628e+04</td> <td> 3345.059</td> <td>  -10.844</td> <td> 0.000</td> <td>-4.28e+04</td> <td>-2.97e+04</td>\n",
       "</tr>\n",
       "<tr>\n",
       "  <th>Zona_Oeste</th>                   <td>-6241.4657</td> <td> 3131.176</td> <td>   -1.993</td> <td> 0.046</td> <td>-1.24e+04</td> <td> -104.328</td>\n",
       "</tr>\n",
       "<tr>\n",
       "  <th>Distancia</th>                    <td>-1.006e+05</td> <td> 3683.689</td> <td>  -27.298</td> <td> 0.000</td> <td>-1.08e+05</td> <td>-9.33e+04</td>\n",
       "</tr>\n",
       "</table>\n",
       "<table class=\"simpletable\">\n",
       "<tr>\n",
       "  <th>Omnibus:</th>       <td>138125.043</td> <th>  Durbin-Watson:     </th>    <td>   1.998</td>    \n",
       "</tr>\n",
       "<tr>\n",
       "  <th>Prob(Omnibus):</th>   <td> 0.000</td>   <th>  Jarque-Bera (JB):  </th> <td>20767335602.387</td>\n",
       "</tr>\n",
       "<tr>\n",
       "  <th>Skew:</th>            <td>32.184</td>   <th>  Prob(JB):          </th>    <td>    0.00</td>    \n",
       "</tr>\n",
       "<tr>\n",
       "  <th>Kurtosis:</th>       <td>3118.853</td>  <th>  Cond. No.          </th>    <td>    4.43</td>    \n",
       "</tr>\n",
       "</table><br/><br/>Warnings:<br/>[1] Standard Errors assume that the covariance matrix of the errors is correctly specified."
      ],
      "text/plain": [
       "<class 'statsmodels.iolib.summary.Summary'>\n",
       "\"\"\"\n",
       "                            OLS Regression Results                            \n",
       "==============================================================================\n",
       "Dep. Variable:            Preco_Venda   R-squared:                       0.621\n",
       "Model:                            OLS   Adj. R-squared:                  0.621\n",
       "Method:                 Least Squares   F-statistic:                     7008.\n",
       "Date:                Thu, 05 Sep 2019   Prob (F-statistic):               0.00\n",
       "Time:                        18:05:29   Log-Likelihood:            -7.5975e+05\n",
       "No. Observations:               51316   AIC:                         1.520e+06\n",
       "Df Residuals:                   51303   BIC:                         1.520e+06\n",
       "Df Model:                          12                                         \n",
       "Covariance Type:            nonrobust                                         \n",
       "================================================================================================\n",
       "                                   coef    std err          t      P>|t|      [0.025      0.975]\n",
       "------------------------------------------------------------------------------------------------\n",
       "const                         7.636e+05   2874.448    265.666      0.000    7.58e+05    7.69e+05\n",
       "bathrooms                    -3.015e+04   4700.550     -6.413      0.000   -3.94e+04   -2.09e+04\n",
       "bedrooms                     -1.376e+05   4131.314    -33.315      0.000   -1.46e+05    -1.3e+05\n",
       "parkingspaces                 1.656e+05   5116.738     32.361      0.000    1.56e+05    1.76e+05\n",
       "pricinginfos_monthlycondofee  6.841e+04   3268.814     20.928      0.000     6.2e+04    7.48e+04\n",
       "pricinginfos_yearlyiptu       1.265e+04   2959.907      4.273      0.000    6845.982    1.84e+04\n",
       "suites                        2.298e+04   5082.565      4.521      0.000     1.3e+04    3.29e+04\n",
       "usableareas                   7.165e+05   5280.541    135.680      0.000    7.06e+05    7.27e+05\n",
       "Zona_Centro                   -5.75e+04   3417.695    -16.823      0.000   -6.42e+04   -5.08e+04\n",
       "Zona_Leste                   -3.623e+04   3387.067    -10.697      0.000   -4.29e+04   -2.96e+04\n",
       "Zona_Norte                   -3.628e+04   3345.059    -10.844      0.000   -4.28e+04   -2.97e+04\n",
       "Zona_Oeste                   -6241.4657   3131.176     -1.993      0.046   -1.24e+04    -104.328\n",
       "Distancia                    -1.006e+05   3683.689    -27.298      0.000   -1.08e+05   -9.33e+04\n",
       "==============================================================================\n",
       "Omnibus:                   138125.043   Durbin-Watson:                   1.998\n",
       "Prob(Omnibus):                  0.000   Jarque-Bera (JB):      20767335602.387\n",
       "Skew:                          32.184   Prob(JB):                         0.00\n",
       "Kurtosis:                    3118.853   Cond. No.                         4.43\n",
       "==============================================================================\n",
       "\n",
       "Warnings:\n",
       "[1] Standard Errors assume that the covariance matrix of the errors is correctly specified.\n",
       "\"\"\""
      ]
     },
     "execution_count": 22,
     "metadata": {},
     "output_type": "execute_result"
    }
   ],
   "source": [
    "modelo_lr_statsmodels.summary()"
   ]
  },
  {
   "cell_type": "code",
   "execution_count": 23,
   "metadata": {},
   "outputs": [
    {
     "data": {
      "text/plain": [
       "const                           763641.907086\n",
       "bathrooms                       -30146.489783\n",
       "bedrooms                       -137632.840001\n",
       "parkingspaces                   165583.231879\n",
       "pricinginfos_monthlycondofee     68411.040126\n",
       "pricinginfos_yearlyiptu          12647.429323\n",
       "suites                           22980.522463\n",
       "usableareas                     716464.605566\n",
       "Zona_Centro                     -57495.972145\n",
       "Zona_Leste                      -36232.022849\n",
       "Zona_Norte                      -36275.064654\n",
       "Zona_Oeste                       -6241.465685\n",
       "Distancia                      -100558.524276\n",
       "dtype: float64"
      ]
     },
     "execution_count": 23,
     "metadata": {},
     "output_type": "execute_result"
    }
   ],
   "source": [
    "modelo_lr_statsmodels.params"
   ]
  },
  {
   "cell_type": "code",
   "execution_count": 24,
   "metadata": {},
   "outputs": [],
   "source": [
    "# Decision Tree"
   ]
  },
  {
   "cell_type": "code",
   "execution_count": 25,
   "metadata": {},
   "outputs": [],
   "source": [
    "from sklearn.tree import DecisionTreeRegressor"
   ]
  },
  {
   "cell_type": "code",
   "execution_count": 26,
   "metadata": {},
   "outputs": [],
   "source": [
    "dt = DecisionTreeRegressor(max_depth=50, min_samples_split=20)"
   ]
  },
  {
   "cell_type": "code",
   "execution_count": 27,
   "metadata": {},
   "outputs": [],
   "source": [
    "modelo_dr = dt.fit(X_train, y_train)"
   ]
  },
  {
   "cell_type": "code",
   "execution_count": 28,
   "metadata": {},
   "outputs": [
    {
     "name": "stdout",
     "output_type": "stream",
     "text": [
      "MSE: 147415641867.3716\n",
      "R2: 0.8545\n"
     ]
    }
   ],
   "source": [
    "predictions = modelo_dr.predict(X_test)\n",
    "mse = mean_squared_error(y_test, predictions)\n",
    "print(\"MSE: %.4f\" % mse)\n",
    "r2 = r2_score(y_test, predictions)\n",
    "print(\"R2: %.4f\" % r2)"
   ]
  },
  {
   "cell_type": "code",
   "execution_count": 29,
   "metadata": {},
   "outputs": [],
   "source": [
    "# Random Forest"
   ]
  },
  {
   "cell_type": "code",
   "execution_count": 30,
   "metadata": {},
   "outputs": [
    {
     "name": "stderr",
     "output_type": "stream",
     "text": [
      "C:\\ProgramData\\Anaconda3\\lib\\site-packages\\sklearn\\ensemble\\weight_boosting.py:29: DeprecationWarning: numpy.core.umath_tests is an internal NumPy module and should not be imported. It will be removed in a future NumPy release.\n",
      "  from numpy.core.umath_tests import inner1d\n"
     ]
    }
   ],
   "source": [
    "from sklearn.ensemble import RandomForestRegressor"
   ]
  },
  {
   "cell_type": "code",
   "execution_count": 31,
   "metadata": {},
   "outputs": [],
   "source": [
    "rf = RandomForestRegressor(n_estimators=200, max_depth=None, max_features='auto', min_samples_split=20)"
   ]
  },
  {
   "cell_type": "code",
   "execution_count": 32,
   "metadata": {},
   "outputs": [],
   "source": [
    "modelo_rf = rf.fit(X_train, y_train)"
   ]
  },
  {
   "cell_type": "code",
   "execution_count": 33,
   "metadata": {},
   "outputs": [
    {
     "name": "stdout",
     "output_type": "stream",
     "text": [
      "MSE: 109489178245.6504\n",
      "R2: 0.8919\n"
     ]
    }
   ],
   "source": [
    "predictions = modelo_rf.predict(X_test)\n",
    "mse = mean_squared_error(y_test, predictions)\n",
    "print(\"MSE: %.4f\" % mse)\n",
    "r2 = r2_score(y_test, predictions)\n",
    "print(\"R2: %.4f\" % r2)"
   ]
  },
  {
   "cell_type": "code",
   "execution_count": 34,
   "metadata": {},
   "outputs": [],
   "source": [
    "# Boosting"
   ]
  },
  {
   "cell_type": "code",
   "execution_count": 35,
   "metadata": {},
   "outputs": [],
   "source": [
    "from sklearn import ensemble\n",
    "params = {'n_estimators': 500, 'max_depth': 30, 'min_samples_split': 50, \n",
    "          'learning_rate': 0.01, 'loss': 'ls'}\n",
    "clf = ensemble.GradientBoostingRegressor(**params, random_state=42)"
   ]
  },
  {
   "cell_type": "code",
   "execution_count": 36,
   "metadata": {},
   "outputs": [],
   "source": [
    "modelo_clf = clf.fit(X_train, y_train)\n",
    "predictions = modelo_clf.predict(X_test)"
   ]
  },
  {
   "cell_type": "code",
   "execution_count": 37,
   "metadata": {
    "scrolled": true
   },
   "outputs": [
    {
     "name": "stdout",
     "output_type": "stream",
     "text": [
      "MSE: 101635595220.5466\n",
      "R2: 0.8997\n"
     ]
    }
   ],
   "source": [
    "from sklearn.metrics import mean_squared_error\n",
    "mse = mean_squared_error(y_test, predictions)\n",
    "print(\"MSE: %.4f\" % mse)\n",
    "r2 = r2_score(y_test, predictions)\n",
    "print(\"R2: %.4f\" % r2)"
   ]
  },
  {
   "cell_type": "code",
   "execution_count": 38,
   "metadata": {},
   "outputs": [],
   "source": [
    "# Neural Network"
   ]
  },
  {
   "cell_type": "code",
   "execution_count": 39,
   "metadata": {},
   "outputs": [],
   "source": [
    "from sklearn.neural_network import MLPRegressor"
   ]
  },
  {
   "cell_type": "code",
   "execution_count": 40,
   "metadata": {},
   "outputs": [],
   "source": [
    "mlp = MLPRegressor(hidden_layer_sizes=(18,18,18), random_state=42, max_iter=2000, activation='relu')"
   ]
  },
  {
   "cell_type": "code",
   "execution_count": 41,
   "metadata": {},
   "outputs": [],
   "source": [
    "mlp.fit(X_train,y_train)\n",
    "predictions = mlp.predict(X_test)"
   ]
  },
  {
   "cell_type": "code",
   "execution_count": 42,
   "metadata": {},
   "outputs": [
    {
     "name": "stdout",
     "output_type": "stream",
     "text": [
      "MSE: 191226893046.4591\n",
      "R2: 0.8112\n"
     ]
    }
   ],
   "source": [
    "from sklearn.metrics import mean_squared_error\n",
    "mse = mean_squared_error(y_test, predictions)\n",
    "print(\"MSE: %.4f\" % mse)\n",
    "r2 = r2_score(y_test, predictions)\n",
    "print(\"R2: %.4f\" % r2)"
   ]
  },
  {
   "cell_type": "code",
   "execution_count": 43,
   "metadata": {},
   "outputs": [],
   "source": [
    "#\n",
    "# Salvar os modelos \n",
    "#"
   ]
  },
  {
   "cell_type": "code",
   "execution_count": 44,
   "metadata": {},
   "outputs": [],
   "source": [
    "outfile = open('modelo_lr.pickle','wb')\n",
    "pickle.dump(modelo_lr, outfile)\n",
    "outfile.close()"
   ]
  },
  {
   "cell_type": "code",
   "execution_count": 45,
   "metadata": {},
   "outputs": [],
   "source": [
    "outfile = open('modelo_dr.pickle','wb')\n",
    "pickle.dump(modelo_dr, outfile)\n",
    "outfile.close()"
   ]
  },
  {
   "cell_type": "code",
   "execution_count": 46,
   "metadata": {},
   "outputs": [],
   "source": [
    "outfile = open('modelo_rf.pickle','wb')\n",
    "pickle.dump(modelo_rf, outfile)\n",
    "outfile.close()"
   ]
  },
  {
   "cell_type": "code",
   "execution_count": 47,
   "metadata": {},
   "outputs": [],
   "source": [
    "outfile = open('modelo_clf.pickle','wb')\n",
    "pickle.dump(modelo_clf, outfile)\n",
    "outfile.close()"
   ]
  },
  {
   "cell_type": "code",
   "execution_count": 48,
   "metadata": {},
   "outputs": [],
   "source": [
    "outfile = open('modelo_mlp.pickle','wb')\n",
    "pickle.dump(mlp, outfile)\n",
    "outfile.close()"
   ]
  },
  {
   "cell_type": "code",
   "execution_count": null,
   "metadata": {},
   "outputs": [],
   "source": []
  }
 ],
 "metadata": {
  "kernelspec": {
   "display_name": "Python 3",
   "language": "python",
   "name": "python3"
  },
  "language_info": {
   "codemirror_mode": {
    "name": "ipython",
    "version": 3
   },
   "file_extension": ".py",
   "mimetype": "text/x-python",
   "name": "python",
   "nbconvert_exporter": "python",
   "pygments_lexer": "ipython3",
   "version": "3.7.0"
  }
 },
 "nbformat": 4,
 "nbformat_minor": 2
}
