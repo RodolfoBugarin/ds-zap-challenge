{
 "cells": [
  {
   "cell_type": "code",
   "execution_count": 1,
   "metadata": {},
   "outputs": [],
   "source": [
    "#### Projeto: Desafio ZAP\n",
    "#### Programa para Precificar o Dataset source-4-ds-test.json do ZAP com os Modelos gerados com hiperparâmetros iniciais\n",
    "#### Autor: Rodolfo Bugarin"
   ]
  },
  {
   "cell_type": "code",
   "execution_count": 2,
   "metadata": {},
   "outputs": [],
   "source": [
    "import pandas as pd\n",
    "import numpy as np\n",
    "import sklearn as sk\n",
    "import pickle"
   ]
  },
  {
   "cell_type": "code",
   "execution_count": 3,
   "metadata": {},
   "outputs": [],
   "source": [
    "pd.options.display.float_format = '{:,.4f}'.format"
   ]
  },
  {
   "cell_type": "code",
   "execution_count": 4,
   "metadata": {},
   "outputs": [],
   "source": [
    "#\n",
    "# Carregar o Dataframe\n",
    "#"
   ]
  },
  {
   "cell_type": "code",
   "execution_count": 5,
   "metadata": {},
   "outputs": [],
   "source": [
    "df = pickle.load(open('source-4-ds-test.pickle', 'rb'))"
   ]
  },
  {
   "cell_type": "code",
   "execution_count": 6,
   "metadata": {},
   "outputs": [],
   "source": [
    "df_original = pickle.load(open('source-4-ds-test.pickle', 'rb'))"
   ]
  },
  {
   "cell_type": "code",
   "execution_count": 7,
   "metadata": {},
   "outputs": [
    {
     "data": {
      "text/html": [
       "<div>\n",
       "<style scoped>\n",
       "    .dataframe tbody tr th:only-of-type {\n",
       "        vertical-align: middle;\n",
       "    }\n",
       "\n",
       "    .dataframe tbody tr th {\n",
       "        vertical-align: top;\n",
       "    }\n",
       "\n",
       "    .dataframe thead th {\n",
       "        text-align: right;\n",
       "    }\n",
       "</style>\n",
       "<table border=\"1\" class=\"dataframe\">\n",
       "  <thead>\n",
       "    <tr style=\"text-align: right;\">\n",
       "      <th></th>\n",
       "      <th>address_city</th>\n",
       "      <th>address_country</th>\n",
       "      <th>address_district</th>\n",
       "      <th>address_geolocation_location_lat</th>\n",
       "      <th>address_geolocation_location_lon</th>\n",
       "      <th>address_geolocation_precision</th>\n",
       "      <th>address_locationid</th>\n",
       "      <th>address_neighborhood</th>\n",
       "      <th>address_state</th>\n",
       "      <th>address_street</th>\n",
       "      <th>address_streetnumber</th>\n",
       "      <th>address_unitnumber</th>\n",
       "      <th>address_zipcode</th>\n",
       "      <th>address_zone</th>\n",
       "      <th>bathrooms</th>\n",
       "      <th>bedrooms</th>\n",
       "      <th>createdat</th>\n",
       "      <th>description</th>\n",
       "      <th>id</th>\n",
       "      <th>images</th>\n",
       "      <th>listingstatus</th>\n",
       "      <th>owner</th>\n",
       "      <th>parkingspaces</th>\n",
       "      <th>pricinginfos_businesstype</th>\n",
       "      <th>pricinginfos_monthlycondofee</th>\n",
       "      <th>pricinginfos_period</th>\n",
       "      <th>pricinginfos_price</th>\n",
       "      <th>pricinginfos_rentaltotalprice</th>\n",
       "      <th>pricinginfos_yearlyiptu</th>\n",
       "      <th>publicationtype</th>\n",
       "      <th>publisherid</th>\n",
       "      <th>suites</th>\n",
       "      <th>title</th>\n",
       "      <th>totalareas</th>\n",
       "      <th>unittypes</th>\n",
       "      <th>updatedat</th>\n",
       "      <th>usableareas</th>\n",
       "    </tr>\n",
       "  </thead>\n",
       "  <tbody>\n",
       "    <tr>\n",
       "      <th>0</th>\n",
       "      <td>São Paulo</td>\n",
       "      <td>BR</td>\n",
       "      <td></td>\n",
       "      <td>-23.5572</td>\n",
       "      <td>-46.6628</td>\n",
       "      <td>GEOMETRIC_CENTER</td>\n",
       "      <td>BR&gt;Sao Paulo&gt;NULL&gt;Sao Paulo&gt;Centro&gt;Consolacao</td>\n",
       "      <td>Consolação</td>\n",
       "      <td>São Paulo</td>\n",
       "      <td>Rua Bela Cintra</td>\n",
       "      <td></td>\n",
       "      <td></td>\n",
       "      <td>01415000</td>\n",
       "      <td>Centro</td>\n",
       "      <td>1.0000</td>\n",
       "      <td>1</td>\n",
       "      <td>2015-10-20T20:52:41Z</td>\n",
       "      <td>Apartamentos de 1 dormitório na Rua Bela Cintr...</td>\n",
       "      <td>89224365f8</td>\n",
       "      <td>[https://s3-sa-east-1.amazonaws.com/vr.images....</td>\n",
       "      <td>ACTIVE</td>\n",
       "      <td>False</td>\n",
       "      <td>1.0000</td>\n",
       "      <td>SALE</td>\n",
       "      <td>nan</td>\n",
       "      <td>NaN</td>\n",
       "      <td>None</td>\n",
       "      <td>nan</td>\n",
       "      <td>nan</td>\n",
       "      <td>STANDARD</td>\n",
       "      <td>967d57ce20</td>\n",
       "      <td>0.0000</td>\n",
       "      <td>Apartamento Bela Cintra</td>\n",
       "      <td>47.0000</td>\n",
       "      <td>APARTMENT</td>\n",
       "      <td>2018-11-08T15:02:53.953Z</td>\n",
       "      <td>47.0000</td>\n",
       "    </tr>\n",
       "    <tr>\n",
       "      <th>1</th>\n",
       "      <td>São Paulo</td>\n",
       "      <td>BR</td>\n",
       "      <td></td>\n",
       "      <td>-23.5929</td>\n",
       "      <td>-46.5819</td>\n",
       "      <td>ROOFTOP</td>\n",
       "      <td>BR&gt;Sao Paulo&gt;NULL&gt;Sao Paulo&gt;Zona Leste&gt;Quinta ...</td>\n",
       "      <td>Quinta da Paineira</td>\n",
       "      <td>São Paulo</td>\n",
       "      <td>Rua Bruno Cavalcanti Feder</td>\n",
       "      <td>100</td>\n",
       "      <td></td>\n",
       "      <td>03152155</td>\n",
       "      <td>Zona Leste</td>\n",
       "      <td>0.0000</td>\n",
       "      <td>2</td>\n",
       "      <td>2018-07-31T06:10:07.427Z</td>\n",
       "      <td>Ótima localização, próximo ao shopping Central...</td>\n",
       "      <td>363731333f</td>\n",
       "      <td>[http://images.ingaiasites.com.br/AolwiwJLLpET...</td>\n",
       "      <td>ACTIVE</td>\n",
       "      <td>False</td>\n",
       "      <td>1.0000</td>\n",
       "      <td>SALE</td>\n",
       "      <td>0.0000</td>\n",
       "      <td>NaN</td>\n",
       "      <td>None</td>\n",
       "      <td>nan</td>\n",
       "      <td>0.0000</td>\n",
       "      <td>STANDARD</td>\n",
       "      <td>bddebf057a</td>\n",
       "      <td>0.0000</td>\n",
       "      <td>Apartamento residencial à venda, Quinta da Pai...</td>\n",
       "      <td>55.0000</td>\n",
       "      <td>APARTMENT</td>\n",
       "      <td>2018-11-08T16:10:49.374Z</td>\n",
       "      <td>55.0000</td>\n",
       "    </tr>\n",
       "    <tr>\n",
       "      <th>2</th>\n",
       "      <td>São Paulo</td>\n",
       "      <td></td>\n",
       "      <td></td>\n",
       "      <td>-23.4936</td>\n",
       "      <td>-46.6385</td>\n",
       "      <td>ROOFTOP</td>\n",
       "      <td>BR&gt;Sao Paulo&gt;NULL&gt;Sao Paulo&gt;Zona Norte&gt;Santa T...</td>\n",
       "      <td>Chora Menino</td>\n",
       "      <td>São Paulo</td>\n",
       "      <td>Rua Copacabana</td>\n",
       "      <td>313</td>\n",
       "      <td></td>\n",
       "      <td>02461000</td>\n",
       "      <td></td>\n",
       "      <td>3.0000</td>\n",
       "      <td>3</td>\n",
       "      <td>2018-01-25T13:57:14.203Z</td>\n",
       "      <td>Apartamento maravilhoso com ampla sala ( abriu...</td>\n",
       "      <td>6e6283378a</td>\n",
       "      <td>[https://ssl-w08cnn0135.websiteseguro.com/mira...</td>\n",
       "      <td>ACTIVE</td>\n",
       "      <td>False</td>\n",
       "      <td>2.0000</td>\n",
       "      <td>SALE</td>\n",
       "      <td>686.0000</td>\n",
       "      <td>NaN</td>\n",
       "      <td>None</td>\n",
       "      <td>nan</td>\n",
       "      <td>nan</td>\n",
       "      <td>STANDARD</td>\n",
       "      <td>d7190e8f4c</td>\n",
       "      <td>1.0000</td>\n",
       "      <td>Apartamento em Santa Terezinha - São Paulo, SP</td>\n",
       "      <td>nan</td>\n",
       "      <td>APARTMENT</td>\n",
       "      <td>2019-02-12T18:29:26.933Z</td>\n",
       "      <td>92.0000</td>\n",
       "    </tr>\n",
       "  </tbody>\n",
       "</table>\n",
       "</div>"
      ],
      "text/plain": [
       "  address_city address_country address_district  \\\n",
       "0    São Paulo              BR                    \n",
       "1    São Paulo              BR                    \n",
       "2    São Paulo                                    \n",
       "\n",
       "   address_geolocation_location_lat  address_geolocation_location_lon  \\\n",
       "0                          -23.5572                          -46.6628   \n",
       "1                          -23.5929                          -46.5819   \n",
       "2                          -23.4936                          -46.6385   \n",
       "\n",
       "  address_geolocation_precision  \\\n",
       "0              GEOMETRIC_CENTER   \n",
       "1                       ROOFTOP   \n",
       "2                       ROOFTOP   \n",
       "\n",
       "                                  address_locationid address_neighborhood  \\\n",
       "0      BR>Sao Paulo>NULL>Sao Paulo>Centro>Consolacao           Consolação   \n",
       "1  BR>Sao Paulo>NULL>Sao Paulo>Zona Leste>Quinta ...   Quinta da Paineira   \n",
       "2  BR>Sao Paulo>NULL>Sao Paulo>Zona Norte>Santa T...         Chora Menino   \n",
       "\n",
       "  address_state              address_street address_streetnumber  \\\n",
       "0     São Paulo             Rua Bela Cintra                        \n",
       "1     São Paulo  Rua Bruno Cavalcanti Feder                  100   \n",
       "2     São Paulo              Rua Copacabana                  313   \n",
       "\n",
       "  address_unitnumber address_zipcode address_zone  bathrooms  bedrooms  \\\n",
       "0                           01415000       Centro     1.0000         1   \n",
       "1                           03152155   Zona Leste     0.0000         2   \n",
       "2                           02461000                  3.0000         3   \n",
       "\n",
       "                  createdat  \\\n",
       "0      2015-10-20T20:52:41Z   \n",
       "1  2018-07-31T06:10:07.427Z   \n",
       "2  2018-01-25T13:57:14.203Z   \n",
       "\n",
       "                                         description          id  \\\n",
       "0  Apartamentos de 1 dormitório na Rua Bela Cintr...  89224365f8   \n",
       "1  Ótima localização, próximo ao shopping Central...  363731333f   \n",
       "2  Apartamento maravilhoso com ampla sala ( abriu...  6e6283378a   \n",
       "\n",
       "                                              images listingstatus  owner  \\\n",
       "0  [https://s3-sa-east-1.amazonaws.com/vr.images....        ACTIVE  False   \n",
       "1  [http://images.ingaiasites.com.br/AolwiwJLLpET...        ACTIVE  False   \n",
       "2  [https://ssl-w08cnn0135.websiteseguro.com/mira...        ACTIVE  False   \n",
       "\n",
       "   parkingspaces pricinginfos_businesstype  pricinginfos_monthlycondofee  \\\n",
       "0         1.0000                      SALE                           nan   \n",
       "1         1.0000                      SALE                        0.0000   \n",
       "2         2.0000                      SALE                      686.0000   \n",
       "\n",
       "  pricinginfos_period pricinginfos_price  pricinginfos_rentaltotalprice  \\\n",
       "0                 NaN               None                            nan   \n",
       "1                 NaN               None                            nan   \n",
       "2                 NaN               None                            nan   \n",
       "\n",
       "   pricinginfos_yearlyiptu publicationtype publisherid  suites  \\\n",
       "0                      nan        STANDARD  967d57ce20  0.0000   \n",
       "1                   0.0000        STANDARD  bddebf057a  0.0000   \n",
       "2                      nan        STANDARD  d7190e8f4c  1.0000   \n",
       "\n",
       "                                               title  totalareas  unittypes  \\\n",
       "0                            Apartamento Bela Cintra     47.0000  APARTMENT   \n",
       "1  Apartamento residencial à venda, Quinta da Pai...     55.0000  APARTMENT   \n",
       "2     Apartamento em Santa Terezinha - São Paulo, SP         nan  APARTMENT   \n",
       "\n",
       "                  updatedat  usableareas  \n",
       "0  2018-11-08T15:02:53.953Z      47.0000  \n",
       "1  2018-11-08T16:10:49.374Z      55.0000  \n",
       "2  2019-02-12T18:29:26.933Z      92.0000  "
      ]
     },
     "execution_count": 7,
     "metadata": {},
     "output_type": "execute_result"
    }
   ],
   "source": [
    "pd.set_option('display.max_columns', 999)\n",
    "df.head(n=3)"
   ]
  },
  {
   "cell_type": "code",
   "execution_count": 8,
   "metadata": {},
   "outputs": [],
   "source": [
    "#\n",
    "# Tratamento de Dados\n",
    "#"
   ]
  },
  {
   "cell_type": "code",
   "execution_count": 9,
   "metadata": {},
   "outputs": [],
   "source": [
    "# O Desafio ZAP pede estimar um preço de venda para os apartamentos no dataset de teste \n",
    "# Desta forma garantimos termos no dataframe somente  os imóveis \"apartamento\" e que estejam à venda (ou ambos)"
   ]
  },
  {
   "cell_type": "code",
   "execution_count": 10,
   "metadata": {},
   "outputs": [
    {
     "data": {
      "text/plain": [
       "(16036, 37)"
      ]
     },
     "execution_count": 10,
     "metadata": {},
     "output_type": "execute_result"
    }
   ],
   "source": [
    "df.shape"
   ]
  },
  {
   "cell_type": "code",
   "execution_count": 11,
   "metadata": {},
   "outputs": [],
   "source": [
    "df.drop(df[df['pricinginfos_businesstype'] == 'RENTAL'].index, inplace = True) "
   ]
  },
  {
   "cell_type": "code",
   "execution_count": 12,
   "metadata": {},
   "outputs": [],
   "source": [
    "df.drop(df[df['unittypes'] != 'APARTMENT'].index, inplace = True) "
   ]
  },
  {
   "cell_type": "code",
   "execution_count": 13,
   "metadata": {},
   "outputs": [
    {
     "data": {
      "text/plain": [
       "(16036, 37)"
      ]
     },
     "execution_count": 13,
     "metadata": {},
     "output_type": "execute_result"
    }
   ],
   "source": [
    "df.shape"
   ]
  },
  {
   "cell_type": "code",
   "execution_count": 14,
   "metadata": {},
   "outputs": [],
   "source": [
    "# Criar a coluna Zona com base na coluna address_locationid e address_zone"
   ]
  },
  {
   "cell_type": "code",
   "execution_count": 15,
   "metadata": {},
   "outputs": [
    {
     "data": {
      "text/html": [
       "<div>\n",
       "<style scoped>\n",
       "    .dataframe tbody tr th:only-of-type {\n",
       "        vertical-align: middle;\n",
       "    }\n",
       "\n",
       "    .dataframe tbody tr th {\n",
       "        vertical-align: top;\n",
       "    }\n",
       "\n",
       "    .dataframe thead th {\n",
       "        text-align: right;\n",
       "    }\n",
       "</style>\n",
       "<table border=\"1\" class=\"dataframe\">\n",
       "  <thead>\n",
       "    <tr style=\"text-align: right;\">\n",
       "      <th></th>\n",
       "      <th>address_locationid</th>\n",
       "      <th>Zona</th>\n",
       "    </tr>\n",
       "  </thead>\n",
       "  <tbody>\n",
       "    <tr>\n",
       "      <th>0</th>\n",
       "      <td>BR&gt;Sao Paulo&gt;NULL&gt;Sao Paulo&gt;Centro&gt;Consolacao</td>\n",
       "      <td>Centro</td>\n",
       "    </tr>\n",
       "    <tr>\n",
       "      <th>1</th>\n",
       "      <td>BR&gt;Sao Paulo&gt;NULL&gt;Sao Paulo&gt;Zona Leste&gt;Quinta ...</td>\n",
       "      <td>Zona Leste</td>\n",
       "    </tr>\n",
       "    <tr>\n",
       "      <th>2</th>\n",
       "      <td>BR&gt;Sao Paulo&gt;NULL&gt;Sao Paulo&gt;Zona Norte&gt;Santa T...</td>\n",
       "      <td>Zona Norte</td>\n",
       "    </tr>\n",
       "    <tr>\n",
       "      <th>3</th>\n",
       "      <td>BR&gt;Sao Paulo&gt;NULL&gt;Sao Paulo&gt;Zona Sul&gt;Brooklin</td>\n",
       "      <td>Zona Sul</td>\n",
       "    </tr>\n",
       "    <tr>\n",
       "      <th>4</th>\n",
       "      <td>BR&gt;Sao Paulo&gt;NULL&gt;Sao Paulo&gt;Zona Oeste&gt;Alto de...</td>\n",
       "      <td>Zona Oeste</td>\n",
       "    </tr>\n",
       "  </tbody>\n",
       "</table>\n",
       "</div>"
      ],
      "text/plain": [
       "                                  address_locationid        Zona\n",
       "0      BR>Sao Paulo>NULL>Sao Paulo>Centro>Consolacao      Centro\n",
       "1  BR>Sao Paulo>NULL>Sao Paulo>Zona Leste>Quinta ...  Zona Leste\n",
       "2  BR>Sao Paulo>NULL>Sao Paulo>Zona Norte>Santa T...  Zona Norte\n",
       "3      BR>Sao Paulo>NULL>Sao Paulo>Zona Sul>Brooklin    Zona Sul\n",
       "4  BR>Sao Paulo>NULL>Sao Paulo>Zona Oeste>Alto de...  Zona Oeste"
      ]
     },
     "execution_count": 15,
     "metadata": {},
     "output_type": "execute_result"
    }
   ],
   "source": [
    "import re \n",
    "  \n",
    "# Função para extrair zonas de São Paulo \n",
    "def Zona_names(Zona_name): \n",
    "    if re.search('\\BR>Sao Paulo>NULL>Sao Paulo>.*', Zona_name): \n",
    "        Zona_name = Zona_name[28:]\n",
    "        if re.search('\\>.*', Zona_name):\n",
    "            pos = re.search('\\>.*', Zona_name).start() \n",
    "            Zona_name = Zona_name[:pos]\n",
    "        return Zona_name\n",
    "    else: \n",
    "        return \"\" \n",
    "    \n",
    "# Criação da nova coluna Zona \n",
    "df['Zona'] = df['address_locationid'].apply(Zona_names) \n",
    "  \n",
    "# Print the updated dataframe \n",
    "df[['address_locationid', 'Zona']].head()"
   ]
  },
  {
   "cell_type": "code",
   "execution_count": 16,
   "metadata": {},
   "outputs": [
    {
     "data": {
      "text/plain": [
       "Zona\n",
       "                13\n",
       "Centro        1665\n",
       "Zona Leste    2882\n",
       "Zona Norte    2838\n",
       "Zona Oeste    2317\n",
       "Zona Sul      6321\n",
       "Name: Zona, dtype: int64"
      ]
     },
     "execution_count": 16,
     "metadata": {},
     "output_type": "execute_result"
    }
   ],
   "source": [
    "df.groupby('Zona').Zona.count()"
   ]
  },
  {
   "cell_type": "code",
   "execution_count": 17,
   "metadata": {},
   "outputs": [
    {
     "data": {
      "text/plain": [
       "address_zone\n",
       "    13\n",
       "Name: address_zone, dtype: int64"
      ]
     },
     "execution_count": 17,
     "metadata": {},
     "output_type": "execute_result"
    }
   ],
   "source": [
    "df[df['Zona'] ==\"\"].groupby('address_zone').address_zone.count()"
   ]
  },
  {
   "cell_type": "code",
   "execution_count": 18,
   "metadata": {},
   "outputs": [],
   "source": [
    "# Nos casos em que a nova coluna \"Zona\" ficou com contéudo \"\", preencher com o contéu da coluna \"address_zone\"\n",
    "for item in df.iterrows():\n",
    "    if item[1].Zona == \"\":\n",
    "        df.loc[item[0], 'Zona'] = item[1].address_zone"
   ]
  },
  {
   "cell_type": "code",
   "execution_count": 19,
   "metadata": {},
   "outputs": [],
   "source": [
    "# Nos casos em que a nova coluna \"Zona\" está preenhida com \"Centro\", alterar para \"Zona Centro\"\n",
    "df['Zona'] = df['Zona'].apply(lambda x: \"Zona Centro\" if x == 'Centro' else x)"
   ]
  },
  {
   "cell_type": "code",
   "execution_count": 20,
   "metadata": {
    "scrolled": true
   },
   "outputs": [
    {
     "data": {
      "text/plain": [
       "Zona\n",
       "                 13\n",
       "Zona Centro    1665\n",
       "Zona Leste     2882\n",
       "Zona Norte     2838\n",
       "Zona Oeste     2317\n",
       "Zona Sul       6321\n",
       "Name: Zona, dtype: int64"
      ]
     },
     "execution_count": 20,
     "metadata": {},
     "output_type": "execute_result"
    }
   ],
   "source": [
    "df.groupby('Zona').Zona.count()"
   ]
  },
  {
   "cell_type": "code",
   "execution_count": 21,
   "metadata": {},
   "outputs": [
    {
     "data": {
      "text/plain": [
       "publicationtype\n",
       "PREMIUM       269\n",
       "STANDARD    15767\n",
       "Name: publicationtype, dtype: int64"
      ]
     },
     "execution_count": 21,
     "metadata": {},
     "output_type": "execute_result"
    }
   ],
   "source": [
    "df.groupby('publicationtype').publicationtype.count()"
   ]
  },
  {
   "cell_type": "code",
   "execution_count": 22,
   "metadata": {},
   "outputs": [],
   "source": [
    "#\n",
    "# Converter as colunas categóricas em Dummies\n",
    "#"
   ]
  },
  {
   "cell_type": "code",
   "execution_count": 23,
   "metadata": {},
   "outputs": [],
   "source": [
    "import re\n",
    "\n",
    "#### Função para remover os espaços e caracteres especiais.\n",
    "def arrumar_string(v_string):\n",
    "    novo_string = v_string.replace(' ', '_')\n",
    "    novo_string = novo_string.replace('.', '')\n",
    "    novo_string = novo_string.replace('(', '')\n",
    "    novo_string = novo_string.replace(')', '')\n",
    "    novo_string = novo_string.replace('-', '')\n",
    "    novo_string = re.sub(\"\\d\", \"x\", novo_string)\n",
    "    return novo_string"
   ]
  },
  {
   "cell_type": "code",
   "execution_count": 24,
   "metadata": {},
   "outputs": [],
   "source": [
    "df.pricinginfos_businesstype = df.pricinginfos_businesstype.apply(arrumar_string)\n",
    "df['pricinginfos_businesstype'] = df['pricinginfos_businesstype'].apply(lambda x: \"SemBusinessDefinido\" if x == \"\" else x)\n",
    "df_aux = pd.get_dummies(df['pricinginfos_businesstype'])\n",
    "df = pd.concat([df, df_aux], axis=1)"
   ]
  },
  {
   "cell_type": "code",
   "execution_count": 25,
   "metadata": {},
   "outputs": [],
   "source": [
    "df.publicationtype = df.publicationtype.apply(arrumar_string)\n",
    "df['publicationtype'] = df['publicationtype'].apply(lambda x: \"SemPublicationDefinido\" if x == \"\" else x)\n",
    "df_aux = pd.get_dummies(df['publicationtype'])\n",
    "df = pd.concat([df, df_aux], axis=1)"
   ]
  },
  {
   "cell_type": "code",
   "execution_count": 26,
   "metadata": {},
   "outputs": [],
   "source": [
    "df.Zona = df.Zona.apply(arrumar_string)\n",
    "df['Zona'] = df['Zona'].apply(lambda x: \"SemZonaDefinida\" if x == \"\" else x)\n",
    "df_aux = pd.get_dummies(df['Zona'])\n",
    "df = pd.concat([df, df_aux], axis=1)"
   ]
  },
  {
   "cell_type": "code",
   "execution_count": 27,
   "metadata": {},
   "outputs": [],
   "source": [
    "#\n",
    "# Eliminar as colunas que não serão utilizadas no modelo\n",
    "#"
   ]
  },
  {
   "cell_type": "code",
   "execution_count": 28,
   "metadata": {},
   "outputs": [],
   "source": [
    "# Eliminar a coluna target, variável a ser explicada.\n",
    "(df.drop(['pricinginfos_price'], axis=1, inplace=True))"
   ]
  },
  {
   "cell_type": "code",
   "execution_count": 29,
   "metadata": {},
   "outputs": [],
   "source": [
    "# Todas os imóveis são da cidade de São Paulo, então podemos remover cidade, estado e país\n",
    "(df.drop(['address_city', 'address_country', 'address_state'], axis=1, inplace=True))"
   ]
  },
  {
   "cell_type": "code",
   "execution_count": 30,
   "metadata": {},
   "outputs": [],
   "source": [
    "# Eliminar as colunas  tem quase todos os valores vazios\n",
    "(df.drop(['address_district', 'pricinginfos_period'], axis=1, inplace=True))"
   ]
  },
  {
   "cell_type": "code",
   "execution_count": 31,
   "metadata": {},
   "outputs": [],
   "source": [
    "# A coluna \"address_zone\" e \"address_locationid\" não são mais necessária, pois foram substituídas pela coluna \"Zona\"\n",
    "(df.drop(['address_zone', 'address_locationid'], axis=1, inplace=True))"
   ]
  },
  {
   "cell_type": "code",
   "execution_count": 32,
   "metadata": {},
   "outputs": [],
   "source": [
    "# Utilizamos a latitude e longitude como vetor de localização do imóvel, então todos os campos de endereço devem ser removidos \n",
    "(df.drop(['address_neighborhood', 'address_street', 'address_streetnumber', 'address_unitnumber', 'address_zipcode'], axis=1, inplace=True))"
   ]
  },
  {
   "cell_type": "code",
   "execution_count": 33,
   "metadata": {},
   "outputs": [],
   "source": [
    "# Eliminar as colunas de contrale e id por serem inúteis ao modelo\n",
    "(df.drop(['createdat', 'id', 'owner', 'publisherid', 'updatedat', 'address_geolocation_precision'], axis=1, inplace=True))"
   ]
  },
  {
   "cell_type": "code",
   "execution_count": 34,
   "metadata": {},
   "outputs": [],
   "source": [
    "# Eliminar as colunas de descrição e de links\n",
    "(df.drop(['description', 'images', 'title'], axis=1, inplace=True))"
   ]
  },
  {
   "cell_type": "code",
   "execution_count": 35,
   "metadata": {},
   "outputs": [],
   "source": [
    "# Eliminar as colunas que têm valores únicos \n",
    "(df.drop(['listingstatus', 'unittypes'], axis=1, inplace=True))"
   ]
  },
  {
   "cell_type": "code",
   "execution_count": 36,
   "metadata": {},
   "outputs": [],
   "source": [
    "# Eliminar as colunas categóricas\n",
    "(df.drop(['pricinginfos_businesstype', 'publicationtype', 'Zona'], axis=1, inplace=True))"
   ]
  },
  {
   "cell_type": "code",
   "execution_count": 37,
   "metadata": {},
   "outputs": [],
   "source": [
    "# DF para Guardar Medidas de Posicao de São Paulo\n",
    "df_medidas = pd.DataFrame({'Cidade': ['São Paulo']})"
   ]
  },
  {
   "cell_type": "code",
   "execution_count": 38,
   "metadata": {},
   "outputs": [],
   "source": [
    "#\n",
    "# Carregar do Daframe de Medidas de Posição\n",
    "#"
   ]
  },
  {
   "cell_type": "code",
   "execution_count": 39,
   "metadata": {},
   "outputs": [],
   "source": [
    "df_medidas = pickle.load(open('df_medidas.pickle', 'rb'))"
   ]
  },
  {
   "cell_type": "code",
   "execution_count": 40,
   "metadata": {},
   "outputs": [],
   "source": [
    "#\n",
    "# Corrigindo os Missing e Outliers\n",
    "#"
   ]
  },
  {
   "cell_type": "code",
   "execution_count": 41,
   "metadata": {
    "scrolled": true
   },
   "outputs": [],
   "source": [
    "features = df.columns.tolist()[0:11]"
   ]
  },
  {
   "cell_type": "code",
   "execution_count": 42,
   "metadata": {},
   "outputs": [],
   "source": [
    "# Corrigindo Missings\n",
    "for i in features:\n",
    "    coluna = i + '_mediana'\n",
    "    mediana = df_medidas.iloc[0][coluna]\n",
    "    df.loc[df[i].isnull(), i] = mediana"
   ]
  },
  {
   "cell_type": "code",
   "execution_count": 43,
   "metadata": {},
   "outputs": [],
   "source": [
    "# Corrigindo Outliers\n",
    "for i in features:\n",
    "    coluna = i + '_p99'\n",
    "    p99 = df_medidas.iloc[0][coluna]\n",
    "    df.loc[df[i] > p99, i] = p99"
   ]
  },
  {
   "cell_type": "code",
   "execution_count": 44,
   "metadata": {},
   "outputs": [],
   "source": [
    "#\n",
    "# Criar a coluna que mede a distância entre a geolocalização de referência (mediana da cidade) e o imóvel\n",
    "#"
   ]
  },
  {
   "cell_type": "code",
   "execution_count": 45,
   "metadata": {},
   "outputs": [],
   "source": [
    "# Funçao para calcular a distância entre dois pontos\n",
    "from math import radians, degrees, sin, cos, asin, acos, sqrt, atan2\n",
    "\n",
    "def great_circle(lat1, lon1, lat2, lon2):\n",
    "\n",
    "    R = 6373.0\n",
    "    lat1, lon1, lat2, lon2 = map(radians, [lat1, lon1, lat2, lon2])\n",
    "\n",
    "    dlon = lon2 - lon1\n",
    "    dlat = lat2 - lat1\n",
    "\n",
    "    a = sin(dlat / 2)**2 + cos(lat1) * cos(lat2) * sin(dlon / 2)**2\n",
    "    c = 2 * atan2(sqrt(a), sqrt(1 - a))\n",
    "\n",
    "    distance = R * c\n",
    "\n",
    "    return distance"
   ]
  },
  {
   "cell_type": "code",
   "execution_count": 46,
   "metadata": {},
   "outputs": [],
   "source": [
    "lat_mediana = df_medidas.iloc[0]['address_geolocation_location_lat_mediana']\n",
    "lon_mediana = df_medidas.iloc[0]['address_geolocation_location_lon_mediana']"
   ]
  },
  {
   "cell_type": "code",
   "execution_count": 47,
   "metadata": {},
   "outputs": [],
   "source": [
    "# Criar a nova coluna que mede a distância do imóvel para a mediana\n",
    "\n",
    "def calculo_distancia (r):\n",
    "    v_distancia = great_circle(lat_mediana, lon_mediana, r.address_geolocation_location_lat, r.address_geolocation_location_lon)\n",
    "    return v_distancia\n",
    "\n",
    "df['Distancia'] = df.apply(calculo_distancia, axis=1)"
   ]
  },
  {
   "cell_type": "code",
   "execution_count": 48,
   "metadata": {},
   "outputs": [],
   "source": [
    "df.drop(['address_geolocation_location_lat', 'address_geolocation_location_lon'], axis=1, inplace=True)"
   ]
  },
  {
   "cell_type": "code",
   "execution_count": 49,
   "metadata": {},
   "outputs": [],
   "source": [
    "#\n",
    "# Precificacão\n",
    "# "
   ]
  },
  {
   "cell_type": "code",
   "execution_count": 50,
   "metadata": {},
   "outputs": [],
   "source": [
    "# Scaling"
   ]
  },
  {
   "cell_type": "code",
   "execution_count": 51,
   "metadata": {},
   "outputs": [
    {
     "data": {
      "text/plain": [
       "StandardScaler(copy=True, with_mean=True, with_std=True)"
      ]
     },
     "execution_count": 51,
     "metadata": {},
     "output_type": "execute_result"
    }
   ],
   "source": [
    "from sklearn.preprocessing import StandardScaler\n",
    "scaler = StandardScaler()\n",
    "# Fit the training data\n",
    "scaler.fit(df)"
   ]
  },
  {
   "cell_type": "code",
   "execution_count": 52,
   "metadata": {},
   "outputs": [],
   "source": [
    "# Apply the transformations to the data:\n",
    "X_prod = scaler.transform(df)"
   ]
  },
  {
   "cell_type": "code",
   "execution_count": 53,
   "metadata": {},
   "outputs": [],
   "source": [
    "# Linear Regression"
   ]
  },
  {
   "cell_type": "code",
   "execution_count": 54,
   "metadata": {},
   "outputs": [],
   "source": [
    "from sklearn.linear_model import LinearRegression"
   ]
  },
  {
   "cell_type": "code",
   "execution_count": 55,
   "metadata": {},
   "outputs": [],
   "source": [
    "lr = LinearRegression()"
   ]
  },
  {
   "cell_type": "code",
   "execution_count": 56,
   "metadata": {},
   "outputs": [],
   "source": [
    "modelo_lr = pickle.load(open('modelo_lr.pickle', 'rb'))\n",
    "predictions_lr = modelo_lr.predict(X_prod)"
   ]
  },
  {
   "cell_type": "code",
   "execution_count": 57,
   "metadata": {},
   "outputs": [
    {
     "data": {
      "text/plain": [
       "array([-4.52352565e+14, -7.34289455e+13,  7.03593119e+14, ...,\n",
       "       -7.34289456e+13, -7.11656253e+14, -4.52352563e+14])"
      ]
     },
     "execution_count": 57,
     "metadata": {},
     "output_type": "execute_result"
    }
   ],
   "source": [
    "predictions_lr"
   ]
  },
  {
   "cell_type": "code",
   "execution_count": 58,
   "metadata": {},
   "outputs": [],
   "source": [
    "# Decision Tree"
   ]
  },
  {
   "cell_type": "code",
   "execution_count": 59,
   "metadata": {},
   "outputs": [],
   "source": [
    "from sklearn.tree import DecisionTreeRegressor"
   ]
  },
  {
   "cell_type": "code",
   "execution_count": 60,
   "metadata": {},
   "outputs": [],
   "source": [
    "dt = DecisionTreeRegressor(max_depth=20, min_samples_split=50)"
   ]
  },
  {
   "cell_type": "code",
   "execution_count": 61,
   "metadata": {},
   "outputs": [],
   "source": [
    "modelo_dr = pickle.load(open('modelo_dr.pickle', 'rb'))\n",
    "predictions_dr = modelo_dr.predict(X_prod)"
   ]
  },
  {
   "cell_type": "code",
   "execution_count": 62,
   "metadata": {},
   "outputs": [
    {
     "data": {
      "text/plain": [
       "array([ 340088.25      ,  217315.        ,  530154.36363636, ...,\n",
       "        265499.85714286,  522799.71428571, 1749299.5       ])"
      ]
     },
     "execution_count": 62,
     "metadata": {},
     "output_type": "execute_result"
    }
   ],
   "source": [
    "predictions_dr"
   ]
  },
  {
   "cell_type": "code",
   "execution_count": 63,
   "metadata": {},
   "outputs": [],
   "source": [
    "# Random Forest"
   ]
  },
  {
   "cell_type": "code",
   "execution_count": 64,
   "metadata": {},
   "outputs": [
    {
     "name": "stderr",
     "output_type": "stream",
     "text": [
      "C:\\ProgramData\\Anaconda3\\lib\\site-packages\\sklearn\\ensemble\\weight_boosting.py:29: DeprecationWarning: numpy.core.umath_tests is an internal NumPy module and should not be imported. It will be removed in a future NumPy release.\n",
      "  from numpy.core.umath_tests import inner1d\n"
     ]
    }
   ],
   "source": [
    "from sklearn.ensemble import RandomForestRegressor"
   ]
  },
  {
   "cell_type": "code",
   "execution_count": 65,
   "metadata": {},
   "outputs": [],
   "source": [
    "rf = RandomForestRegressor(n_estimators=100, max_depth=20, max_features='auto')"
   ]
  },
  {
   "cell_type": "code",
   "execution_count": 66,
   "metadata": {},
   "outputs": [],
   "source": [
    "modelo_rf = pickle.load(open('modelo_rf.pickle', 'rb'))\n",
    "predictions_rf = modelo_rf.predict(X_prod)"
   ]
  },
  {
   "cell_type": "code",
   "execution_count": 67,
   "metadata": {},
   "outputs": [
    {
     "data": {
      "text/plain": [
       "array([ 348029.27544011,  265888.38490974,  499060.35114688, ...,\n",
       "        300012.14199694,  478382.9836972 , 1713918.63229744])"
      ]
     },
     "execution_count": 67,
     "metadata": {},
     "output_type": "execute_result"
    }
   ],
   "source": [
    "predictions_rf"
   ]
  },
  {
   "cell_type": "code",
   "execution_count": 68,
   "metadata": {},
   "outputs": [],
   "source": [
    "# Boosting"
   ]
  },
  {
   "cell_type": "code",
   "execution_count": 69,
   "metadata": {},
   "outputs": [],
   "source": [
    "from sklearn import ensemble\n",
    "params = {'n_estimators': 200, 'max_depth': 50, 'min_samples_split': 20,\n",
    "          'learning_rate': 0.01, 'loss': 'ls'}\n",
    "clf = ensemble.GradientBoostingRegressor(**params)"
   ]
  },
  {
   "cell_type": "code",
   "execution_count": 70,
   "metadata": {},
   "outputs": [],
   "source": [
    "modelo_clf = pickle.load(open('modelo_clf.pickle', 'rb'))\n",
    "predictions_clf = modelo_clf.predict(X_prod)"
   ]
  },
  {
   "cell_type": "code",
   "execution_count": 71,
   "metadata": {},
   "outputs": [
    {
     "data": {
      "text/plain": [
       "array([ 364487.94723161,  276145.78469528,  487626.80366656, ...,\n",
       "        295300.14417508,  500855.79022762, 1664310.69080683])"
      ]
     },
     "execution_count": 71,
     "metadata": {},
     "output_type": "execute_result"
    }
   ],
   "source": [
    "predictions_clf"
   ]
  },
  {
   "cell_type": "code",
   "execution_count": 72,
   "metadata": {},
   "outputs": [],
   "source": [
    "#\n",
    "# Neural Network\n",
    "#"
   ]
  },
  {
   "cell_type": "code",
   "execution_count": 73,
   "metadata": {},
   "outputs": [],
   "source": [
    "from sklearn.neural_network import MLPRegressor"
   ]
  },
  {
   "cell_type": "code",
   "execution_count": 74,
   "metadata": {},
   "outputs": [],
   "source": [
    "mlp = MLPRegressor(hidden_layer_sizes=(17,17), random_state=42, max_iter=200, activation='relu')"
   ]
  },
  {
   "cell_type": "code",
   "execution_count": 75,
   "metadata": {},
   "outputs": [],
   "source": [
    "modelo_mlp = pickle.load(open('modelo_mlp.pickle', 'rb'))\n",
    "predictions_mlp = modelo_mlp.predict(X_prod)"
   ]
  },
  {
   "cell_type": "code",
   "execution_count": 76,
   "metadata": {
    "scrolled": true
   },
   "outputs": [
    {
     "data": {
      "text/plain": [
       "array([ 335341.89877921,  207432.64309599,  519874.81862126, ...,\n",
       "        314512.2159014 ,  473086.17131659, 1540690.79506351])"
      ]
     },
     "execution_count": 76,
     "metadata": {},
     "output_type": "execute_result"
    }
   ],
   "source": [
    "predictions_mlp"
   ]
  },
  {
   "cell_type": "code",
   "execution_count": 77,
   "metadata": {},
   "outputs": [],
   "source": [
    "# Rotinas para gerar o arquivo de saída CSV com os Preços de Venda estimados para cada imóvel de cada modelo utlizado"
   ]
  },
  {
   "cell_type": "code",
   "execution_count": 78,
   "metadata": {},
   "outputs": [],
   "source": [
    "# CSV de precificação baseado em Regressão Linear\n",
    "df_predictions_lr = pd.DataFrame(predictions_lr)\n",
    "df_predictions_lr.rename({0: \"price\"}, axis=1, inplace=True)\n",
    "df_concat = pd.concat ([df_predictions_lr, df_original], axis=1)\n",
    "df_preco_venda = df_concat[['id','price']].copy()\n",
    "df_preco_venda.to_csv ('predictions_lr.csv', index = False, header=True)"
   ]
  },
  {
   "cell_type": "code",
   "execution_count": 79,
   "metadata": {},
   "outputs": [],
   "source": [
    "# CSV de precificação baseado em Decision Tree\n",
    "df_predictions_dr = pd.DataFrame(predictions_dr)\n",
    "df_predictions_dr.rename({0: \"price\"}, axis=1, inplace=True)\n",
    "df_concat = pd.concat ([df_predictions_dr, df_original], axis=1)\n",
    "df_preco_venda = df_concat[['id','price']].copy()\n",
    "df_preco_venda.to_csv ('predictions_dr.csv', index = False, header=True)"
   ]
  },
  {
   "cell_type": "code",
   "execution_count": 80,
   "metadata": {},
   "outputs": [],
   "source": [
    "# CSV de precificação baseado em Random Forest\n",
    "df_predictions_rf = pd.DataFrame(predictions_rf)\n",
    "df_predictions_rf.rename({0: \"price\"}, axis=1, inplace=True)\n",
    "df_concat = pd.concat ([df_predictions_rf, df_original], axis=1)\n",
    "df_preco_venda = df_concat[['id','price']].copy()\n",
    "df_preco_venda.to_csv ('predictions_rf.csv', index = False, header=True)"
   ]
  },
  {
   "cell_type": "code",
   "execution_count": 81,
   "metadata": {},
   "outputs": [],
   "source": [
    "# CSV de precificação baseado em Boosting\n",
    "df_predictions_clf = pd.DataFrame(predictions_clf)\n",
    "df_predictions_clf.rename({0: \"price\"}, axis=1, inplace=True)\n",
    "df_concat = pd.concat ([df_predictions_clf, df_original], axis=1)\n",
    "df_preco_venda = df_concat[['id','price']].copy()\n",
    "df_preco_venda.to_csv ('predictions_clf.csv', index = False, header=True)"
   ]
  },
  {
   "cell_type": "code",
   "execution_count": 82,
   "metadata": {},
   "outputs": [],
   "source": [
    "# CSV de precificação baseado em Neural Network\n",
    "df_predictions_mlp = pd.DataFrame(predictions_mlp)\n",
    "df_predictions_mlp.rename({0: \"price\"}, axis=1, inplace=True)\n",
    "df_concat = pd.concat ([df_predictions_mlp, df_original], axis=1)\n",
    "df_preco_venda = df_concat[['id','price']].copy()\n",
    "df_preco_venda.to_csv ('predictions_mlp.csv', index = False, header=True)"
   ]
  }
 ],
 "metadata": {
  "kernelspec": {
   "display_name": "Python 3",
   "language": "python",
   "name": "python3"
  },
  "language_info": {
   "codemirror_mode": {
    "name": "ipython",
    "version": 3
   },
   "file_extension": ".py",
   "mimetype": "text/x-python",
   "name": "python",
   "nbconvert_exporter": "python",
   "pygments_lexer": "ipython3",
   "version": "3.7.0"
  }
 },
 "nbformat": 4,
 "nbformat_minor": 2
}
